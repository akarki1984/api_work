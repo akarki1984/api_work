{
 "cells": [
  {
   "cell_type": "code",
   "execution_count": 1,
   "metadata": {},
   "outputs": [],
   "source": [
    "import pandas as pd \n",
    "import requests\n",
    "from bs4 import BeautifulSoup"
   ]
  },
  {
   "cell_type": "code",
   "execution_count": 2,
   "metadata": {},
   "outputs": [],
   "source": [
    "response = requests.get('https://www.epicurious.com/search/cucumbers')\n",
    "doc = BeautifulSoup(response.text)"
   ]
  },
  {
   "cell_type": "code",
   "execution_count": 4,
   "metadata": {},
   "outputs": [],
   "source": [
    "# doc"
   ]
  },
  {
   "cell_type": "code",
   "execution_count": 59,
   "metadata": {},
   "outputs": [
    {
     "name": "stdout",
     "output_type": "stream",
     "text": [
      "https://www.epicurious.com/search/cucumbers?page=1\n",
      "https://www.epicurious.com/search/cucumbers?page=2\n",
      "https://www.epicurious.com/search/cucumbers?page=3\n",
      "https://www.epicurious.com/search/cucumbers?page=4\n",
      "https://www.epicurious.com/search/cucumbers?page=5\n",
      "https://www.epicurious.com/search/cucumbers?page=6\n",
      "https://www.epicurious.com/search/cucumbers?page=7\n",
      "https://www.epicurious.com/search/cucumbers?page=8\n",
      "https://www.epicurious.com/search/cucumbers?page=9\n",
      "https://www.epicurious.com/search/cucumbers?page=10\n"
     ]
    }
   ],
   "source": [
    "for page_num in range(1,11):\n",
    "    url =f'https://www.epicurious.com/search/cucumbers?page={page_num}'\n",
    "    print(url)"
   ]
  },
  {
   "cell_type": "code",
   "execution_count": 8,
   "metadata": {},
   "outputs": [
    {
     "name": "stdout",
     "output_type": "stream",
     "text": [
      "Clearing out our dataset\n",
      "Now Scraping https://www.epicurious.com/search/cucumbers?page=1\n",
      "Now Scraping https://www.epicurious.com/search/cucumbers?page=2\n",
      "Now Scraping https://www.epicurious.com/search/cucumbers?page=3\n",
      "Now Scraping https://www.epicurious.com/search/cucumbers?page=4\n",
      "Now Scraping https://www.epicurious.com/search/cucumbers?page=5\n",
      "Now Scraping https://www.epicurious.com/search/cucumbers?page=6\n",
      "Now Scraping https://www.epicurious.com/search/cucumbers?page=7\n",
      "Now Scraping https://www.epicurious.com/search/cucumbers?page=8\n",
      "Now Scraping https://www.epicurious.com/search/cucumbers?page=9\n",
      "Now Scraping https://www.epicurious.com/search/cucumbers?page=10\n"
     ]
    }
   ],
   "source": [
    "print(\"Clearing out our dataset\")\n",
    "rows = []\n",
    "\n",
    "for page_num in range(1, 11):\n",
    "    url =f'https://www.epicurious.com/search/cucumbers?page={page_num}'\n",
    "    print('Now Scraping', url)\n",
    "    \n",
    "    response = requests.get(url)\n",
    "    doc= BeautifulSoup(reponse.text)\n",
    "    \n",
    "    \n",
    "    cucumbers = doc\n",
    "\n"
   ]
  },
  {
   "cell_type": "code",
   "execution_count": 57,
   "metadata": {},
   "outputs": [
    {
     "name": "stdout",
     "output_type": "stream",
     "text": [
      "---------------------\n",
      "/recipes/food/views/spicy-lightly-pickled-cucumbers\n",
      "---------------------\n",
      "/recipes/food/views/cucumbers-with-ajo-blanco-sauce\n",
      "---------------------\n",
      "/recipes/food/views/cold-beef-tenderloin-with-tomatoes-and-cucumbers\n",
      "---------------------\n",
      "/recipes/food/views/fried-fish-sandwiches-with-cucumbers-and-tartar-sauce\n",
      "---------------------\n",
      "/recipes/food/views/farro-spelt-grain-salad-with-tomatoes-and-cucumbers\n",
      "---------------------\n",
      "/recipes/food/views/grilled-charred-cabbage-with-goat-cheese-raita-and-cucumbers\n",
      "---------------------\n",
      "/recipes/food/views/cucumber-seaweed-salad\n",
      "---------------------\n",
      "/recipes/food/views/pineapple-shrimp-noodle-bowls\n",
      "---------------------\n",
      "/recipes/food/views/sambal-shrimp-lettuce-wraps\n",
      "---------------------\n",
      "/recipes/food/views/smashed-cucumber-salad-with-lemon-and-celery-salt\n",
      "---------------------\n",
      "/recipes/food/views/thai-style-squid-and-cucumber-salad\n",
      "---------------------\n",
      "/recipes/food/views/spicy-grilled-chicken-with-crunchy-fennel-salad\n",
      "---------------------\n",
      "/recipes/food/views/grilled-salmon-with-meyer-lemons-and-creamy-cucumber-salad\n",
      "---------------------\n",
      "/recipes/food/views/smashed-cucumber-salad-with-hot-vinegar\n",
      "---------------------\n",
      "/recipes/food/views/sams-spring-cucumber-radish-fattoush-salad\n",
      "---------------------\n",
      "/recipes/food/views/skirt-steak-with-spicy-coconut-dressing\n"
     ]
    }
   ],
   "source": [
    "cucumbers = doc.find_all('article', class_='recipe-content-card')\n",
    "\n",
    "for cuc in cucumbers:\n",
    "    print('---------------------')\n",
    "#     print(cuc.find('strong', class_='tag').text.strip())\n",
    "#     print(cuc.find('h4', class_='hed').text.strip())\n",
    "#     print(cuc.find('p', class_='dek').text.strip())\n",
    "#     print(cuc.find_all('span')[1].text.strip())\n",
    "#     print(cuc.find('dd', class_='make-again-percentage').text.strip())\n",
    "    print(cuc.find('a', class_='view-complete-item')['href'])\n",
    "    \n",
    "    \n"
   ]
  },
  {
   "cell_type": "code",
   "execution_count": null,
   "metadata": {},
   "outputs": [],
   "source": []
  }
 ],
 "metadata": {
  "kernelspec": {
   "display_name": "Python 3",
   "language": "python",
   "name": "python3"
  },
  "language_info": {
   "codemirror_mode": {
    "name": "ipython",
    "version": 3
   },
   "file_extension": ".py",
   "mimetype": "text/x-python",
   "name": "python",
   "nbconvert_exporter": "python",
   "pygments_lexer": "ipython3",
   "version": "3.7.3"
  }
 },
 "nbformat": 4,
 "nbformat_minor": 2
}
