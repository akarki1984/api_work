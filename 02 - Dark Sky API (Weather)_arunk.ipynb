{
 "cells": [
  {
   "cell_type": "markdown",
   "metadata": {},
   "source": [
    "# Dark Sky API (Weather)\n",
    "\n",
    "Answer the following questions using the [Dark Sky API](https://darksky.net/dev/). I've added three cells for each question but you're free to use more or less! Hold `Shift` and hit `Enter` to run a cell, and use the `+` on the top left to add a new cell to a notebook.\n",
    "\n",
    "If you spend some time reading the documentation your life will probably be a little bit easier!\n",
    "\n",
    "## 0) Import any libraries you might need\n",
    "\n",
    "- *Tip: We're going to be downloading things from the internet, so we probably need `requests`.*"
   ]
  },
  {
   "cell_type": "code",
   "execution_count": 1,
   "metadata": {},
   "outputs": [],
   "source": [
    "import requests"
   ]
  },
  {
   "cell_type": "code",
   "execution_count": 2,
   "metadata": {},
   "outputs": [],
   "source": [
    "# a_k = '4c2f56efa7af71166e7044038873f94c'\n",
    "# url1 = 'https://api.darksky.net/forecast/'\n",
    "# lat = '42.3601,'\n",
    "# long = '-71.0589'\n",
    "# forcast_url = url1+a_k+lat+long\n",
    "# print(forcast_url)\n",
    "\n",
    "response = requests.get('https://api.darksky.net/forecast/4c2f56efa7af71166e7044038873f94c/37.8267,-122.4233?units=si')\n",
    "data = response.json()"
   ]
  },
  {
   "cell_type": "code",
   "execution_count": 3,
   "metadata": {},
   "outputs": [
    {
     "name": "stdout",
     "output_type": "stream",
     "text": [
      "dict_keys(['latitude', 'longitude', 'timezone', 'currently', 'minutely', 'hourly', 'daily', 'alerts', 'flags', 'offset'])\n"
     ]
    }
   ],
   "source": [
    "print(data.keys())"
   ]
  },
  {
   "cell_type": "markdown",
   "metadata": {
    "collapsed": true
   },
   "source": [
    "## 1) Make a request from the Dark Sky API for where you were born (or lived, or want to visit!).\n",
    "\n",
    "- *Tip: The URL we used in class was for a place near San Francisco. What was the format of the endpoint that made this happen?*\n",
    "- *Tip: Save the URL as a separate variable, and be sure to not have `[` and `]` inside.*\n",
    "- *Tip: How is north vs. south and east vs. west latitude/longitude represented? Is it the normal North/South/East/West?*\n",
    "- *Tip: You know it's JSON, but Python doesn't! Make sure you aren't trying to deal with plain text.* \n",
    "- *Tip: Once you've imported the JSON into a variable, check the timezone's name to make sure it seems like it got the right part of the world!*"
   ]
  },
  {
   "cell_type": "code",
   "execution_count": 4,
   "metadata": {},
   "outputs": [],
   "source": [
    "response = requests.get('https://api.darksky.net/forecast/4c2f56efa7af71166e7044038873f94c/27.700769, 85.300140')\n",
    "data_nep = response.json()"
   ]
  },
  {
   "cell_type": "code",
   "execution_count": 5,
   "metadata": {},
   "outputs": [
    {
     "name": "stdout",
     "output_type": "stream",
     "text": [
      "{'latitude': 27.700769, 'longitude': 85.30014, 'timezone': 'Asia/Kathmandu', 'currently': {'time': 1560222915, 'summary': 'Mostly Cloudy', 'icon': 'partly-cloudy-day', 'precipIntensity': 0.0006, 'precipProbability': 0.02, 'precipType': 'rain', 'temperature': 76.34, 'apparentTemperature': 77.46, 'dewPoint': 69.91, 'humidity': 0.81, 'pressure': 1004.5, 'windSpeed': 0.91, 'windGust': 3.36, 'windBearing': 177, 'cloudCover': 0.65, 'uvIndex': 5, 'visibility': 3.14, 'ozone': 278.36}, 'hourly': {'summary': 'Light rain this afternoon.', 'icon': 'rain', 'data': [{'time': 1560222900, 'summary': 'Mostly Cloudy', 'icon': 'partly-cloudy-day', 'precipIntensity': 0.0006, 'precipProbability': 0.02, 'precipType': 'rain', 'temperature': 76.32, 'apparentTemperature': 77.44, 'dewPoint': 69.91, 'humidity': 0.81, 'pressure': 1004.51, 'windSpeed': 0.91, 'windGust': 3.36, 'windBearing': 177, 'cloudCover': 0.65, 'uvIndex': 5, 'visibility': 3.13, 'ozone': 278.36}, {'time': 1560226500, 'summary': 'Mostly Cloudy', 'icon': 'partly-cloudy-day', 'precipIntensity': 0.0006, 'precipProbability': 0.01, 'precipType': 'rain', 'temperature': 80.13, 'apparentTemperature': 82.98, 'dewPoint': 68.82, 'humidity': 0.69, 'pressure': 1004.1, 'windSpeed': 1.63, 'windGust': 2.93, 'windBearing': 177, 'cloudCover': 0.6, 'uvIndex': 7, 'visibility': 4.42, 'ozone': 278.21}, {'time': 1560230100, 'summary': 'Partly Cloudy', 'icon': 'partly-cloudy-day', 'precipIntensity': 0.0008, 'precipProbability': 0.01, 'precipType': 'rain', 'temperature': 83.05, 'apparentTemperature': 84.57, 'dewPoint': 64.26, 'humidity': 0.53, 'pressure': 1003.54, 'windSpeed': 1.75, 'windGust': 2.56, 'windBearing': 166, 'cloudCover': 0.54, 'uvIndex': 9, 'visibility': 7.62, 'ozone': 278.07}, {'time': 1560233700, 'summary': 'Partly Cloudy', 'icon': 'partly-cloudy-day', 'precipIntensity': 0.0022, 'precipProbability': 0.02, 'precipType': 'rain', 'temperature': 84.29, 'apparentTemperature': 84.99, 'dewPoint': 62.2, 'humidity': 0.48, 'pressure': 1002.93, 'windSpeed': 1.7, 'windGust': 2.52, 'windBearing': 168, 'cloudCover': 0.52, 'uvIndex': 9, 'visibility': 9.4, 'ozone': 278.12}, {'time': 1560237300, 'summary': 'Partly Cloudy', 'icon': 'partly-cloudy-day', 'precipIntensity': 0.0133, 'precipProbability': 0.05, 'precipType': 'rain', 'temperature': 83.12, 'apparentTemperature': 84.18, 'dewPoint': 62.95, 'humidity': 0.51, 'pressure': 1002.24, 'windSpeed': 1.98, 'windGust': 2.96, 'windBearing': 186, 'cloudCover': 0.56, 'uvIndex': 8, 'visibility': 9.71, 'ozone': 278.35}, {'time': 1560240900, 'summary': 'Possible Light Rain', 'icon': 'rain', 'precipIntensity': 0.0394, 'precipProbability': 0.06, 'precipType': 'rain', 'temperature': 80.73, 'apparentTemperature': 82.15, 'dewPoint': 63.42, 'humidity': 0.56, 'pressure': 1001.58, 'windSpeed': 2.31, 'windGust': 3.51, 'windBearing': 197, 'cloudCover': 0.6, 'uvIndex': 7, 'visibility': 10, 'ozone': 278.66}, {'time': 1560244500, 'summary': 'Possible Light Rain', 'icon': 'rain', 'precipIntensity': 0.0514, 'precipProbability': 0.06, 'precipType': 'rain', 'temperature': 78.46, 'apparentTemperature': 78.85, 'dewPoint': 63.64, 'humidity': 0.61, 'pressure': 1001.22, 'windSpeed': 2.37, 'windGust': 3.67, 'windBearing': 198, 'cloudCover': 0.64, 'uvIndex': 5, 'visibility': 10, 'ozone': 278.93}, {'time': 1560248100, 'summary': 'Possible Light Rain', 'icon': 'rain', 'precipIntensity': 0.0297, 'precipProbability': 0.05, 'precipType': 'rain', 'temperature': 77.18, 'apparentTemperature': 77.56, 'dewPoint': 63.64, 'humidity': 0.63, 'pressure': 1001.2, 'windSpeed': 1.87, 'windGust': 3.24, 'windBearing': 185, 'cloudCover': 0.66, 'uvIndex': 3, 'visibility': 9.54, 'ozone': 279.17}, {'time': 1560251700, 'summary': 'Mostly Cloudy', 'icon': 'partly-cloudy-day', 'precipIntensity': 0.0079, 'precipProbability': 0.04, 'precipType': 'rain', 'temperature': 75.94, 'apparentTemperature': 76.3, 'dewPoint': 63.43, 'humidity': 0.65, 'pressure': 1001.42, 'windSpeed': 0.39, 'windGust': 2.69, 'windBearing': 153, 'cloudCover': 0.67, 'uvIndex': 1, 'visibility': 8.76, 'ozone': 279.4}, {'time': 1560255300, 'summary': 'Mostly Cloudy', 'icon': 'partly-cloudy-day', 'precipIntensity': 0.0029, 'precipProbability': 0.03, 'precipType': 'rain', 'temperature': 74.33, 'apparentTemperature': 74.65, 'dewPoint': 63.06, 'humidity': 0.68, 'pressure': 1001.89, 'windSpeed': 0.92, 'windGust': 2.63, 'windBearing': 4, 'cloudCover': 0.69, 'uvIndex': 0, 'visibility': 7.88, 'ozone': 279.72}, {'time': 1560258900, 'summary': 'Mostly Cloudy', 'icon': 'partly-cloudy-night', 'precipIntensity': 0.003, 'precipProbability': 0.01, 'precipType': 'rain', 'temperature': 72.92, 'apparentTemperature': 73.2, 'dewPoint': 62.52, 'humidity': 0.7, 'pressure': 1002.66, 'windSpeed': 1.83, 'windGust': 3.18, 'windBearing': 102, 'cloudCover': 0.71, 'uvIndex': 0, 'visibility': 6.81, 'ozone': 280.2}, {'time': 1560262500, 'summary': 'Mostly Cloudy', 'icon': 'partly-cloudy-night', 'precipIntensity': 0.0031, 'precipProbability': 0.02, 'precipType': 'rain', 'temperature': 71.76, 'apparentTemperature': 71.97, 'dewPoint': 61.85, 'humidity': 0.71, 'pressure': 1003.58, 'windSpeed': 2.47, 'windGust': 4.04, 'windBearing': 56, 'cloudCover': 0.72, 'uvIndex': 0, 'visibility': 5.87, 'ozone': 280.63}, {'time': 1560266100, 'summary': 'Mostly Cloudy', 'icon': 'partly-cloudy-night', 'precipIntensity': 0.0035, 'precipProbability': 0.02, 'precipType': 'rain', 'temperature': 70.67, 'apparentTemperature': 70.8, 'dewPoint': 61.04, 'humidity': 0.72, 'pressure': 1004.38, 'windSpeed': 3.08, 'windGust': 4.85, 'windBearing': 31, 'cloudCover': 0.72, 'uvIndex': 0, 'visibility': 5.82, 'ozone': 280.58}, {'time': 1560269700, 'summary': 'Mostly Cloudy', 'icon': 'partly-cloudy-night', 'precipIntensity': 0.0044, 'precipProbability': 0.03, 'precipType': 'rain', 'temperature': 69.77, 'apparentTemperature': 69.79, 'dewPoint': 60.03, 'humidity': 0.71, 'pressure': 1005.06, 'windSpeed': 3.55, 'windGust': 5.61, 'windBearing': 31, 'cloudCover': 0.68, 'uvIndex': 0, 'visibility': 6.99, 'ozone': 279.85}, {'time': 1560273300, 'summary': 'Mostly Cloudy', 'icon': 'partly-cloudy-night', 'precipIntensity': 0.0054, 'precipProbability': 0.03, 'precipType': 'rain', 'temperature': 69.01, 'apparentTemperature': 69.01, 'dewPoint': 58.85, 'humidity': 0.7, 'pressure': 1005.6, 'windSpeed': 3.97, 'windGust': 6.27, 'windBearing': 42, 'cloudCover': 0.63, 'uvIndex': 0, 'visibility': 8.57, 'ozone': 278.91}, {'time': 1560276900, 'summary': 'Partly Cloudy', 'icon': 'partly-cloudy-night', 'precipIntensity': 0.0061, 'precipProbability': 0.04, 'precipType': 'rain', 'temperature': 68.35, 'apparentTemperature': 68.35, 'dewPoint': 57.65, 'humidity': 0.69, 'pressure': 1005.84, 'windSpeed': 4.2, 'windGust': 6.56, 'windBearing': 48, 'cloudCover': 0.59, 'uvIndex': 0, 'visibility': 9.49, 'ozone': 278.5}, {'time': 1560280500, 'summary': 'Partly Cloudy', 'icon': 'partly-cloudy-night', 'precipIntensity': 0.0061, 'precipProbability': 0.04, 'precipType': 'rain', 'temperature': 67.82, 'apparentTemperature': 67.82, 'dewPoint': 56.48, 'humidity': 0.67, 'pressure': 1005.71, 'windSpeed': 4.19, 'windGust': 6.37, 'windBearing': 46, 'cloudCover': 0.57, 'uvIndex': 0, 'visibility': 9.43, 'ozone': 278.65}, {'time': 1560284100, 'summary': 'Partly Cloudy', 'icon': 'partly-cloudy-night', 'precipIntensity': 0.0057, 'precipProbability': 0.04, 'precipType': 'rain', 'temperature': 67.37, 'apparentTemperature': 67.37, 'dewPoint': 55.32, 'humidity': 0.65, 'pressure': 1005.41, 'windSpeed': 4.06, 'windGust': 5.97, 'windBearing': 44, 'cloudCover': 0.55, 'uvIndex': 0, 'visibility': 9.07, 'ozone': 279.21}, {'time': 1560287700, 'summary': 'Partly Cloudy', 'icon': 'partly-cloudy-night', 'precipIntensity': 0.0048, 'precipProbability': 0.03, 'precipType': 'rain', 'temperature': 67.24, 'apparentTemperature': 67.24, 'dewPoint': 54.12, 'humidity': 0.63, 'pressure': 1005.29, 'windSpeed': 3.98, 'windGust': 5.73, 'windBearing': 42, 'cloudCover': 0.52, 'uvIndex': 0, 'visibility': 9.07, 'ozone': 280.01}, {'time': 1560291300, 'summary': 'Partly Cloudy', 'icon': 'partly-cloudy-night', 'precipIntensity': 0.0036, 'precipProbability': 0.03, 'precipType': 'rain', 'temperature': 66.93, 'apparentTemperature': 66.93, 'dewPoint': 52.76, 'humidity': 0.6, 'pressure': 1005.4, 'windSpeed': 3.96, 'windGust': 5.77, 'windBearing': 43, 'cloudCover': 0.49, 'uvIndex': 0, 'visibility': 9.63, 'ozone': 281.14}, {'time': 1560294900, 'summary': 'Partly Cloudy', 'icon': 'partly-cloudy-night', 'precipIntensity': 0.0025, 'precipProbability': 0.04, 'precipType': 'rain', 'temperature': 66.68, 'apparentTemperature': 66.68, 'dewPoint': 51.66, 'humidity': 0.58, 'pressure': 1005.59, 'windSpeed': 3.9, 'windGust': 5.83, 'windBearing': 48, 'cloudCover': 0.46, 'uvIndex': 0, 'visibility': 10, 'ozone': 282.32}, {'time': 1560298500, 'summary': 'Partly Cloudy', 'icon': 'partly-cloudy-day', 'precipIntensity': 0.0017, 'precipProbability': 0.04, 'precipType': 'rain', 'temperature': 67.44, 'apparentTemperature': 67.44, 'dewPoint': 51.66, 'humidity': 0.57, 'pressure': 1005.8, 'windSpeed': 3.69, 'windGust': 5.59, 'windBearing': 58, 'cloudCover': 0.42, 'uvIndex': 0, 'visibility': 10, 'ozone': 283.32}, {'time': 1560302100, 'summary': 'Partly Cloudy', 'icon': 'partly-cloudy-day', 'precipIntensity': 0.0011, 'precipProbability': 0.03, 'precipType': 'rain', 'temperature': 70.75, 'apparentTemperature': 70.75, 'dewPoint': 53.11, 'humidity': 0.54, 'pressure': 1006.02, 'windSpeed': 3.29, 'windGust': 4.91, 'windBearing': 74, 'cloudCover': 0.37, 'uvIndex': 1, 'visibility': 10, 'ozone': 284.16}, {'time': 1560305700, 'summary': 'Partly Cloudy', 'icon': 'partly-cloudy-day', 'precipIntensity': 0.0007, 'precipProbability': 0.02, 'precipType': 'rain', 'temperature': 75.21, 'apparentTemperature': 75.21, 'dewPoint': 55.28, 'humidity': 0.5, 'pressure': 1006.2, 'windSpeed': 2.82, 'windGust': 4.12, 'windBearing': 95, 'cloudCover': 0.32, 'uvIndex': 3, 'visibility': 10, 'ozone': 284.85}, {'time': 1560309300, 'summary': 'Partly Cloudy', 'icon': 'partly-cloudy-day', 'precipIntensity': 0.0008, 'precipProbability': 0.03, 'precipType': 'rain', 'temperature': 78.88, 'apparentTemperature': 78.88, 'dewPoint': 57.41, 'humidity': 0.48, 'pressure': 1006.12, 'windSpeed': 2.57, 'windGust': 3.58, 'windBearing': 122, 'cloudCover': 0.29, 'uvIndex': 6, 'visibility': 10, 'ozone': 285.11}, {'time': 1560312900, 'summary': 'Partly Cloudy', 'icon': 'partly-cloudy-day', 'precipIntensity': 0.003, 'precipProbability': 0.04, 'precipType': 'rain', 'temperature': 81.72, 'apparentTemperature': 82.05, 'dewPoint': 59.42, 'humidity': 0.47, 'pressure': 1005.74, 'windSpeed': 2.66, 'windGust': 3.35, 'windBearing': 154, 'cloudCover': 0.26, 'uvIndex': 8, 'visibility': 10, 'ozone': 284.87}, {'time': 1560316500, 'summary': 'Partly Cloudy', 'icon': 'partly-cloudy-day', 'precipIntensity': 0.0083, 'precipProbability': 0.04, 'precipType': 'rain', 'temperature': 83.62, 'apparentTemperature': 84.09, 'dewPoint': 61.28, 'humidity': 0.47, 'pressure': 1005.17, 'windSpeed': 2.89, 'windGust': 3.33, 'windBearing': 185, 'cloudCover': 0.25, 'uvIndex': 10, 'visibility': 9.97, 'ozone': 284.32}, {'time': 1560320100, 'summary': 'Partly Cloudy', 'icon': 'partly-cloudy-day', 'precipIntensity': 0.0136, 'precipProbability': 0.04, 'precipType': 'rain', 'temperature': 84.2, 'apparentTemperature': 85.05, 'dewPoint': 62.59, 'humidity': 0.48, 'pressure': 1004.49, 'windSpeed': 2.98, 'windGust': 3.54, 'windBearing': 207, 'cloudCover': 0.3, 'uvIndex': 11, 'visibility': 9.5, 'ozone': 283.88}, {'time': 1560323700, 'summary': 'Partly Cloudy', 'icon': 'partly-cloudy-day', 'precipIntensity': 0.0161, 'precipProbability': 0.05, 'precipType': 'rain', 'temperature': 83.09, 'apparentTemperature': 84.25, 'dewPoint': 63.23, 'humidity': 0.51, 'pressure': 1003.7, 'windSpeed': 2.9, 'windGust': 4.01, 'windBearing': 222, 'cloudCover': 0.44, 'uvIndex': 9, 'visibility': 9.23, 'ozone': 283.62}, {'time': 1560327300, 'summary': 'Mostly Cloudy', 'icon': 'partly-cloudy-day', 'precipIntensity': 0.0166, 'precipProbability': 0.06, 'precipType': 'rain', 'temperature': 81.07, 'apparentTemperature': 82.5, 'dewPoint': 63.53, 'humidity': 0.55, 'pressure': 1002.87, 'windSpeed': 2.77, 'windGust': 4.57, 'windBearing': 224, 'cloudCover': 0.6, 'uvIndex': 7, 'visibility': 9.03, 'ozone': 283.46}, {'time': 1560330900, 'summary': 'Mostly Cloudy', 'icon': 'partly-cloudy-day', 'precipIntensity': 0.0137, 'precipProbability': 0.05, 'precipType': 'rain', 'temperature': 79.2, 'apparentTemperature': 79.61, 'dewPoint': 63.79, 'humidity': 0.59, 'pressure': 1002.22, 'windSpeed': 2.34, 'windGust': 4.81, 'windBearing': 202, 'cloudCover': 0.71, 'uvIndex': 5, 'visibility': 8.77, 'ozone': 283.39}, {'time': 1560334500, 'summary': 'Mostly Cloudy', 'icon': 'partly-cloudy-day', 'precipIntensity': 0.0075, 'precipProbability': 0.04, 'precipType': 'rain', 'temperature': 78.53, 'apparentTemperature': 78.96, 'dewPoint': 64.04, 'humidity': 0.61, 'pressure': 1001.78, 'windSpeed': 1.59, 'windGust': 4.58, 'windBearing': 145, 'cloudCover': 0.75, 'uvIndex': 3, 'visibility': 8.38, 'ozone': 283.45}, {'time': 1560338100, 'summary': 'Mostly Cloudy', 'icon': 'partly-cloudy-day', 'precipIntensity': 0.0034, 'precipProbability': 0.03, 'precipType': 'rain', 'temperature': 78.07, 'apparentTemperature': 78.51, 'dewPoint': 64.13, 'humidity': 0.62, 'pressure': 1001.55, 'windSpeed': 0.91, 'windGust': 4.22, 'windBearing': 35, 'cloudCover': 0.75, 'uvIndex': 1, 'visibility': 8.02, 'ozone': 283.53}, {'time': 1560341700, 'summary': 'Mostly Cloudy', 'icon': 'partly-cloudy-day', 'precipIntensity': 0.0025, 'precipProbability': 0.01, 'precipType': 'rain', 'temperature': 76.68, 'apparentTemperature': 77.09, 'dewPoint': 63.87, 'humidity': 0.65, 'pressure': 1001.73, 'windSpeed': 1.47, 'windGust': 4.1, 'windBearing': 338, 'cloudCover': 0.73, 'uvIndex': 0, 'visibility': 7.92, 'ozone': 283.37}, {'time': 1560345300, 'summary': 'Mostly Cloudy', 'icon': 'partly-cloudy-night', 'precipIntensity': 0.0015, 'precipProbability': 0.01, 'precipType': 'rain', 'temperature': 74.73, 'apparentTemperature': 75.08, 'dewPoint': 63.23, 'humidity': 0.67, 'pressure': 1002.4, 'windSpeed': 1.49, 'windGust': 4.34, 'windBearing': 11, 'cloudCover': 0.68, 'uvIndex': 0, 'visibility': 8.17, 'ozone': 282.9}, {'time': 1560348900, 'summary': 'Mostly Cloudy', 'icon': 'partly-cloudy-night', 'precipIntensity': 0.0005, 'precipProbability': 0.01, 'precipType': 'rain', 'temperature': 72.98, 'apparentTemperature': 73.24, 'dewPoint': 62.37, 'humidity': 0.69, 'pressure': 1003.32, 'windSpeed': 2.72, 'windGust': 4.73, 'windBearing': 31, 'cloudCover': 0.62, 'uvIndex': 0, 'visibility': 8.52, 'ozone': 282.38}, {'time': 1560352500, 'summary': 'Partly Cloudy', 'icon': 'partly-cloudy-night', 'precipIntensity': 0.0003, 'precipProbability': 0.01, 'precipType': 'rain', 'temperature': 71.83, 'apparentTemperature': 72.01, 'dewPoint': 61.54, 'humidity': 0.7, 'pressure': 1004.07, 'windSpeed': 3.24, 'windGust': 5.08, 'windBearing': 41, 'cloudCover': 0.57, 'uvIndex': 0, 'visibility': 8.62, 'ozone': 282.03}, {'time': 1560356100, 'summary': 'Partly Cloudy', 'icon': 'partly-cloudy-night', 'precipIntensity': 0.0009, 'precipProbability': 0.01, 'precipType': 'rain', 'temperature': 71.43, 'apparentTemperature': 71.52, 'dewPoint': 60.78, 'humidity': 0.69, 'pressure': 1004.62, 'windSpeed': 3.45, 'windGust': 5.37, 'windBearing': 44, 'cloudCover': 0.55, 'uvIndex': 0, 'visibility': 8.33, 'ozone': 281.86}, {'time': 1560359700, 'summary': 'Partly Cloudy', 'icon': 'partly-cloudy-night', 'precipIntensity': 0.002, 'precipProbability': 0.02, 'precipType': 'rain', 'temperature': 71.35, 'apparentTemperature': 71.35, 'dewPoint': 59.99, 'humidity': 0.67, 'pressure': 1005.02, 'windSpeed': 3.69, 'windGust': 5.61, 'windBearing': 44, 'cloudCover': 0.54, 'uvIndex': 0, 'visibility': 8, 'ozone': 281.83}, {'time': 1560363300, 'summary': 'Partly Cloudy', 'icon': 'partly-cloudy-night', 'precipIntensity': 0.0032, 'precipProbability': 0.03, 'precipType': 'rain', 'temperature': 71.13, 'apparentTemperature': 71.13, 'dewPoint': 59.12, 'humidity': 0.66, 'pressure': 1005.14, 'windSpeed': 3.84, 'windGust': 5.82, 'windBearing': 44, 'cloudCover': 0.51, 'uvIndex': 0, 'visibility': 8.1, 'ozone': 281.94}, {'time': 1560366900, 'summary': 'Partly Cloudy', 'icon': 'partly-cloudy-night', 'precipIntensity': 0.0044, 'precipProbability': 0.06, 'precipType': 'rain', 'temperature': 70.51, 'apparentTemperature': 70.51, 'dewPoint': 58.13, 'humidity': 0.65, 'pressure': 1004.89, 'windSpeed': 3.87, 'windGust': 5.98, 'windBearing': 43, 'cloudCover': 0.47, 'uvIndex': 0, 'visibility': 8.83, 'ozone': 282.17}, {'time': 1560370500, 'summary': 'Partly Cloudy', 'icon': 'partly-cloudy-night', 'precipIntensity': 0.0058, 'precipProbability': 0.06, 'precipType': 'rain', 'temperature': 69.71, 'apparentTemperature': 69.71, 'dewPoint': 57.13, 'humidity': 0.64, 'pressure': 1004.5, 'windSpeed': 3.81, 'windGust': 6.07, 'windBearing': 43, 'cloudCover': 0.42, 'uvIndex': 0, 'visibility': 9.77, 'ozone': 282.44}, {'time': 1560374100, 'summary': 'Partly Cloudy', 'icon': 'partly-cloudy-night', 'precipIntensity': 0.0072, 'precipProbability': 0.07, 'precipType': 'rain', 'temperature': 69.33, 'apparentTemperature': 69.33, 'dewPoint': 56.38, 'humidity': 0.63, 'pressure': 1004.27, 'windSpeed': 3.71, 'windGust': 5.97, 'windBearing': 43, 'cloudCover': 0.37, 'uvIndex': 0, 'visibility': 10, 'ozone': 282.75}, {'time': 1560377700, 'summary': 'Partly Cloudy', 'icon': 'partly-cloudy-night', 'precipIntensity': 0.0085, 'precipProbability': 0.08, 'precipType': 'rain', 'temperature': 69.01, 'apparentTemperature': 69.01, 'dewPoint': 55.85, 'humidity': 0.63, 'pressure': 1004.3, 'windSpeed': 3.54, 'windGust': 5.63, 'windBearing': 42, 'cloudCover': 0.32, 'uvIndex': 0, 'visibility': 10, 'ozone': 283}, {'time': 1560381300, 'summary': 'Partly Cloudy', 'icon': 'partly-cloudy-night', 'precipIntensity': 0.0104, 'precipProbability': 0.07, 'precipType': 'rain', 'temperature': 68.68, 'apparentTemperature': 68.68, 'dewPoint': 55.64, 'humidity': 0.63, 'pressure': 1004.44, 'windSpeed': 3.34, 'windGust': 5.15, 'windBearing': 43, 'cloudCover': 0.27, 'uvIndex': 0, 'visibility': 10, 'ozone': 283.15}, {'time': 1560384900, 'summary': 'Clear', 'icon': 'clear-day', 'precipIntensity': 0.0124, 'precipProbability': 0.07, 'precipType': 'rain', 'temperature': 69.12, 'apparentTemperature': 69.12, 'dewPoint': 56.17, 'humidity': 0.63, 'pressure': 1004.64, 'windSpeed': 3.12, 'windGust': 4.56, 'windBearing': 49, 'cloudCover': 0.22, 'uvIndex': 0, 'visibility': 10, 'ozone': 283.09}, {'time': 1560388500, 'summary': 'Clear', 'icon': 'clear-day', 'precipIntensity': 0.0151, 'precipProbability': 0.08, 'precipType': 'rain', 'temperature': 71.36, 'apparentTemperature': 71.36, 'dewPoint': 57.67, 'humidity': 0.62, 'pressure': 1004.93, 'windSpeed': 2.84, 'windGust': 3.79, 'windBearing': 61, 'cloudCover': 0.17, 'uvIndex': 1, 'visibility': 10, 'ozone': 282.67}, {'time': 1560392100, 'summary': 'Clear', 'icon': 'clear-day', 'precipIntensity': 0.018, 'precipProbability': 0.07, 'precipType': 'rain', 'temperature': 74.35, 'apparentTemperature': 74.35, 'dewPoint': 59.58, 'humidity': 0.6, 'pressure': 1005.18, 'windSpeed': 2.59, 'windGust': 3.08, 'windBearing': 78, 'cloudCover': 0.12, 'uvIndex': 3, 'visibility': 10, 'ozone': 282.06}, {'time': 1560395700, 'summary': 'Clear', 'icon': 'clear-day', 'precipIntensity': 0.0161, 'precipProbability': 0.06, 'precipType': 'rain', 'temperature': 76.93, 'apparentTemperature': 77.07, 'dewPoint': 61.13, 'humidity': 0.58, 'pressure': 1005.15, 'windSpeed': 1.72, 'windGust': 2.81, 'windBearing': 85, 'cloudCover': 0.11, 'uvIndex': 6, 'visibility': 9.8, 'ozone': 281.27}]}, 'daily': {'summary': 'Light rain today through Saturday, with high temperatures bottoming out at 82°F on Saturday.', 'icon': 'rain', 'data': [{'time': 1560190500, 'summary': 'Light rain in the afternoon.', 'icon': 'rain', 'sunriseTime': 1560209036, 'sunsetTime': 1560258941, 'moonPhase': 0.29, 'precipIntensity': 0.0096, 'precipIntensityMax': 0.0514, 'precipIntensityMaxTime': 1560244500, 'precipProbability': 0.41, 'precipType': 'rain', 'temperatureHigh': 84.29, 'temperatureHighTime': 1560233700, 'temperatureLow': 66.68, 'temperatureLowTime': 1560294900, 'apparentTemperatureHigh': 84.99, 'apparentTemperatureHighTime': 1560233700, 'apparentTemperatureLow': 66.68, 'apparentTemperatureLowTime': 1560294900, 'dewPoint': 64.44, 'humidity': 0.73, 'pressure': 1003.62, 'windSpeed': 1.01, 'windGust': 6.37, 'windGustTime': 1560194100, 'windBearing': 93, 'cloudCover': 0.63, 'uvIndex': 9, 'uvIndexTime': 1560230100, 'visibility': 5.93, 'ozone': 278.91, 'temperatureMin': 68.39, 'temperatureMinTime': 1560201300, 'temperatureMax': 84.29, 'temperatureMaxTime': 1560233700, 'apparentTemperatureMin': 69.01, 'apparentTemperatureMinTime': 1560273300, 'apparentTemperatureMax': 84.99, 'apparentTemperatureMaxTime': 1560233700}, {'time': 1560276900, 'summary': 'Partly cloudy throughout the day.', 'icon': 'partly-cloudy-day', 'sunriseTime': 1560295437, 'sunsetTime': 1560345364, 'moonPhase': 0.33, 'precipIntensity': 0.0051, 'precipIntensityMax': 0.0166, 'precipIntensityMaxTime': 1560327300, 'precipProbability': 0.22, 'precipType': 'rain', 'temperatureHigh': 84.2, 'temperatureHighTime': 1560320100, 'temperatureLow': 68.68, 'temperatureLowTime': 1560381300, 'apparentTemperatureHigh': 85.05, 'apparentTemperatureHighTime': 1560320100, 'apparentTemperatureLow': 68.68, 'apparentTemperatureLowTime': 1560381300, 'dewPoint': 59.14, 'humidity': 0.6, 'pressure': 1004.42, 'windSpeed': 1.53, 'windGust': 6.56, 'windGustTime': 1560276900, 'windBearing': 64, 'cloudCover': 0.51, 'uvIndex': 11, 'uvIndexTime': 1560320100, 'visibility': 9.13, 'ozone': 282.59, 'temperatureMin': 66.68, 'temperatureMinTime': 1560294900, 'temperatureMax': 84.2, 'temperatureMaxTime': 1560320100, 'apparentTemperatureMin': 66.68, 'apparentTemperatureMinTime': 1560294900, 'apparentTemperatureMax': 85.05, 'apparentTemperatureMaxTime': 1560320100}, {'time': 1560363300, 'summary': 'Mostly cloudy starting in the afternoon.', 'icon': 'partly-cloudy-night', 'sunriseTime': 1560381839, 'sunsetTime': 1560431785, 'moonPhase': 0.36, 'precipIntensity': 0.0095, 'precipIntensityMax': 0.019, 'precipIntensityMaxTime': 1560438900, 'precipProbability': 0.4, 'precipType': 'rain', 'temperatureHigh': 85.85, 'temperatureHighTime': 1560413700, 'temperatureLow': 69.12, 'temperatureLowTime': 1560467700, 'apparentTemperatureHigh': 87.46, 'apparentTemperatureHighTime': 1560413700, 'apparentTemperatureLow': 69.12, 'apparentTemperatureLowTime': 1560467700, 'dewPoint': 61.48, 'humidity': 0.61, 'pressure': 1003.16, 'windSpeed': 1.31, 'windGust': 6.44, 'windGustTime': 1560446100, 'windBearing': 29, 'cloudCover': 0.43, 'uvIndex': 11, 'uvIndexTime': 1560402900, 'visibility': 8.19, 'ozone': 277.46, 'temperatureMin': 68.68, 'temperatureMinTime': 1560381300, 'temperatureMax': 85.85, 'temperatureMaxTime': 1560413700, 'apparentTemperatureMin': 68.68, 'apparentTemperatureMinTime': 1560381300, 'apparentTemperatureMax': 87.46, 'apparentTemperatureMaxTime': 1560413700}, {'time': 1560449700, 'summary': 'Light rain in the evening.', 'icon': 'rain', 'sunriseTime': 1560468243, 'sunsetTime': 1560518205, 'moonPhase': 0.4, 'precipIntensity': 0.0124, 'precipIntensityMax': 0.0367, 'precipIntensityMaxTime': 1560518100, 'precipProbability': 0.38, 'precipType': 'rain', 'temperatureHigh': 83.84, 'temperatureHighTime': 1560496500, 'temperatureLow': 68.54, 'temperatureLowTime': 1560554100, 'apparentTemperatureHigh': 85.63, 'apparentTemperatureHighTime': 1560496500, 'apparentTemperatureLow': 68.54, 'apparentTemperatureLowTime': 1560554100, 'dewPoint': 62.23, 'humidity': 0.63, 'pressure': 1000.96, 'windSpeed': 0.58, 'windGust': 7.09, 'windGustTime': 1560503700, 'windBearing': 38, 'cloudCover': 0.76, 'uvIndex': 8, 'uvIndexTime': 1560489300, 'visibility': 7.73, 'ozone': 275.03, 'temperatureMin': 69.12, 'temperatureMinTime': 1560467700, 'temperatureMax': 83.84, 'temperatureMaxTime': 1560496500, 'apparentTemperatureMin': 69.12, 'apparentTemperatureMinTime': 1560467700, 'apparentTemperatureMax': 85.63, 'apparentTemperatureMaxTime': 1560496500}, {'time': 1560536100, 'summary': 'Rain starting in the afternoon, continuing until evening.', 'icon': 'rain', 'sunriseTime': 1560554647, 'sunsetTime': 1560604624, 'moonPhase': 0.43, 'precipIntensity': 0.0187, 'precipIntensityMax': 0.0586, 'precipIntensityMaxTime': 1560590100, 'precipProbability': 0.5, 'precipType': 'rain', 'temperatureHigh': 82.17, 'temperatureHighTime': 1560575700, 'temperatureLow': 68.21, 'temperatureLowTime': 1560640500, 'apparentTemperatureHigh': 83.91, 'apparentTemperatureHighTime': 1560579300, 'apparentTemperatureLow': 68.22, 'apparentTemperatureLowTime': 1560640500, 'dewPoint': 63.17, 'humidity': 0.69, 'pressure': 1000.87, 'windSpeed': 0.88, 'windGust': 6.24, 'windGustTime': 1560536100, 'windBearing': 38, 'cloudCover': 0.82, 'uvIndex': 8, 'uvIndexTime': 1560575700, 'visibility': 7.48, 'ozone': 275.87, 'temperatureMin': 68.54, 'temperatureMinTime': 1560554100, 'temperatureMax': 82.17, 'temperatureMaxTime': 1560575700, 'apparentTemperatureMin': 68.54, 'apparentTemperatureMinTime': 1560554100, 'apparentTemperatureMax': 83.91, 'apparentTemperatureMaxTime': 1560579300}, {'time': 1560622500, 'summary': 'Mostly cloudy throughout the day.', 'icon': 'partly-cloudy-day', 'sunriseTime': 1560641053, 'sunsetTime': 1560691043, 'moonPhase': 0.47, 'precipIntensity': 0.0103, 'precipIntensityMax': 0.0277, 'precipIntensityMaxTime': 1560683700, 'precipProbability': 0.38, 'precipType': 'rain', 'temperatureHigh': 85.78, 'temperatureHighTime': 1560669300, 'temperatureLow': 68.92, 'temperatureLowTime': 1560726900, 'apparentTemperatureHigh': 86.79, 'apparentTemperatureHighTime': 1560665700, 'apparentTemperatureLow': 68.92, 'apparentTemperatureLowTime': 1560726900, 'dewPoint': 62.38, 'humidity': 0.63, 'pressure': 999.94, 'windSpeed': 0.12, 'windGust': 6.86, 'windGustTime': 1560676500, 'windBearing': 192, 'cloudCover': 0.65, 'uvIndex': 10, 'uvIndexTime': 1560662100, 'visibility': 7.22, 'ozone': 272.14, 'temperatureMin': 68.21, 'temperatureMinTime': 1560640500, 'temperatureMax': 85.78, 'temperatureMaxTime': 1560669300, 'apparentTemperatureMin': 68.22, 'apparentTemperatureMinTime': 1560640500, 'apparentTemperatureMax': 86.79, 'apparentTemperatureMaxTime': 1560665700}, {'time': 1560708900, 'summary': 'Mostly cloudy throughout the day.', 'icon': 'partly-cloudy-day', 'sunriseTime': 1560727460, 'sunsetTime': 1560777460, 'moonPhase': 0.51, 'precipIntensity': 0.0064, 'precipIntensityMax': 0.0222, 'precipIntensityMaxTime': 1560773700, 'precipProbability': 0.25, 'precipType': 'rain', 'temperatureHigh': 87.62, 'temperatureHighTime': 1560752100, 'temperatureLow': 71.54, 'temperatureLowTime': 1560813300, 'apparentTemperatureHigh': 87.65, 'apparentTemperatureHighTime': 1560752100, 'apparentTemperatureLow': 71.54, 'apparentTemperatureLowTime': 1560813300, 'dewPoint': 59.49, 'humidity': 0.54, 'pressure': 998.81, 'windSpeed': 0.63, 'windGust': 5.99, 'windGustTime': 1560752100, 'windBearing': 286, 'cloudCover': 0.75, 'uvIndex': 7, 'uvIndexTime': 1560748500, 'visibility': 7.67, 'ozone': 268.63, 'temperatureMin': 68.92, 'temperatureMinTime': 1560726900, 'temperatureMax': 87.62, 'temperatureMaxTime': 1560752100, 'apparentTemperatureMin': 68.92, 'apparentTemperatureMinTime': 1560726900, 'apparentTemperatureMax': 87.65, 'apparentTemperatureMaxTime': 1560752100}, {'time': 1560795300, 'summary': 'Mostly cloudy throughout the day.', 'icon': 'partly-cloudy-day', 'sunriseTime': 1560813868, 'sunsetTime': 1560863877, 'moonPhase': 0.53, 'precipIntensity': 0.0127, 'precipIntensityMax': 0.0324, 'precipIntensityMaxTime': 1560867300, 'precipProbability': 0.29, 'precipType': 'rain', 'temperatureHigh': 91.25, 'temperatureHighTime': 1560842100, 'temperatureLow': 72.29, 'temperatureLowTime': 1560899700, 'apparentTemperatureHigh': 91.25, 'apparentTemperatureHighTime': 1560842100, 'apparentTemperatureLow': 72.29, 'apparentTemperatureLowTime': 1560899700, 'dewPoint': 57.28, 'humidity': 0.45, 'pressure': 998.38, 'windSpeed': 0.64, 'windGust': 6.84, 'windGustTime': 1560849300, 'windBearing': 229, 'cloudCover': 0.68, 'uvIndex': 9, 'uvIndexTime': 1560834900, 'visibility': 7.12, 'ozone': 267.94, 'temperatureMin': 71.54, 'temperatureMinTime': 1560813300, 'temperatureMax': 91.25, 'temperatureMaxTime': 1560842100, 'apparentTemperatureMin': 71.54, 'apparentTemperatureMinTime': 1560813300, 'apparentTemperatureMax': 91.25, 'apparentTemperatureMaxTime': 1560842100}]}, 'flags': {'sources': ['cmc', 'gfs', 'icon', 'isd', 'madis'], 'nearest-station': 3.61, 'units': 'us'}, 'offset': 5.75}\n"
     ]
    }
   ],
   "source": [
    "print(data_nep)"
   ]
  },
  {
   "cell_type": "code",
   "execution_count": 6,
   "metadata": {},
   "outputs": [
    {
     "data": {
      "text/plain": [
       "(27.700769, 85.30014, 'Asia/Kathmandu')"
      ]
     },
     "execution_count": 6,
     "metadata": {},
     "output_type": "execute_result"
    }
   ],
   "source": [
    "data_nep ['latitude'], data_nep ['longitude'], data_nep ['timezone']"
   ]
  },
  {
   "cell_type": "markdown",
   "metadata": {},
   "source": [
    "## 2) What's the current wind speed? How much warmer does it feel than it actually is?\n",
    "\n",
    "- *Tip: You can do this by browsing through the dictionaries, but it might be easier to read the documentation*\n",
    "- *Tip: For the second half: it **is** one temperature, and it **feels** a different temperature. Calculate the difference.*"
   ]
  },
  {
   "cell_type": "code",
   "execution_count": 7,
   "metadata": {},
   "outputs": [
    {
     "data": {
      "text/plain": [
       "{'time': 1560222915,\n",
       " 'summary': 'Mostly Cloudy',\n",
       " 'icon': 'partly-cloudy-day',\n",
       " 'precipIntensity': 0.0006,\n",
       " 'precipProbability': 0.02,\n",
       " 'precipType': 'rain',\n",
       " 'temperature': 76.34,\n",
       " 'apparentTemperature': 77.46,\n",
       " 'dewPoint': 69.91,\n",
       " 'humidity': 0.81,\n",
       " 'pressure': 1004.5,\n",
       " 'windSpeed': 0.91,\n",
       " 'windGust': 3.36,\n",
       " 'windBearing': 177,\n",
       " 'cloudCover': 0.65,\n",
       " 'uvIndex': 5,\n",
       " 'visibility': 3.14,\n",
       " 'ozone': 278.36}"
      ]
     },
     "execution_count": 7,
     "metadata": {},
     "output_type": "execute_result"
    }
   ],
   "source": [
    "data_nep['currently']"
   ]
  },
  {
   "cell_type": "code",
   "execution_count": 8,
   "metadata": {},
   "outputs": [
    {
     "name": "stdout",
     "output_type": "stream",
     "text": [
      "0.91\n"
     ]
    }
   ],
   "source": [
    "list_currently = data_nep['currently']\n",
    "current_wind_speed = list_currently['windSpeed']\n",
    "\n",
    "print(current_wind_speed)\n",
    "\n"
   ]
  },
  {
   "cell_type": "markdown",
   "metadata": {},
   "source": [
    "## 3) Today's forecast is the FIRST daily forecast. For the place you decided on above, how much of the moon is currently visible?\n",
    "\n",
    "- *Tip: This does **not** use the `currently` key.*\n",
    "- *Tip: It might be helpful to save the forecast into its own variable*"
   ]
  },
  {
   "cell_type": "code",
   "execution_count": 9,
   "metadata": {
    "scrolled": false
   },
   "outputs": [
    {
     "name": "stdout",
     "output_type": "stream",
     "text": [
      "{'summary': 'Light rain today through Saturday, with high temperatures bottoming out at 82°F on Saturday.', 'icon': 'rain', 'data': [{'time': 1560190500, 'summary': 'Light rain in the afternoon.', 'icon': 'rain', 'sunriseTime': 1560209036, 'sunsetTime': 1560258941, 'moonPhase': 0.29, 'precipIntensity': 0.0096, 'precipIntensityMax': 0.0514, 'precipIntensityMaxTime': 1560244500, 'precipProbability': 0.41, 'precipType': 'rain', 'temperatureHigh': 84.29, 'temperatureHighTime': 1560233700, 'temperatureLow': 66.68, 'temperatureLowTime': 1560294900, 'apparentTemperatureHigh': 84.99, 'apparentTemperatureHighTime': 1560233700, 'apparentTemperatureLow': 66.68, 'apparentTemperatureLowTime': 1560294900, 'dewPoint': 64.44, 'humidity': 0.73, 'pressure': 1003.62, 'windSpeed': 1.01, 'windGust': 6.37, 'windGustTime': 1560194100, 'windBearing': 93, 'cloudCover': 0.63, 'uvIndex': 9, 'uvIndexTime': 1560230100, 'visibility': 5.93, 'ozone': 278.91, 'temperatureMin': 68.39, 'temperatureMinTime': 1560201300, 'temperatureMax': 84.29, 'temperatureMaxTime': 1560233700, 'apparentTemperatureMin': 69.01, 'apparentTemperatureMinTime': 1560273300, 'apparentTemperatureMax': 84.99, 'apparentTemperatureMaxTime': 1560233700}, {'time': 1560276900, 'summary': 'Partly cloudy throughout the day.', 'icon': 'partly-cloudy-day', 'sunriseTime': 1560295437, 'sunsetTime': 1560345364, 'moonPhase': 0.33, 'precipIntensity': 0.0051, 'precipIntensityMax': 0.0166, 'precipIntensityMaxTime': 1560327300, 'precipProbability': 0.22, 'precipType': 'rain', 'temperatureHigh': 84.2, 'temperatureHighTime': 1560320100, 'temperatureLow': 68.68, 'temperatureLowTime': 1560381300, 'apparentTemperatureHigh': 85.05, 'apparentTemperatureHighTime': 1560320100, 'apparentTemperatureLow': 68.68, 'apparentTemperatureLowTime': 1560381300, 'dewPoint': 59.14, 'humidity': 0.6, 'pressure': 1004.42, 'windSpeed': 1.53, 'windGust': 6.56, 'windGustTime': 1560276900, 'windBearing': 64, 'cloudCover': 0.51, 'uvIndex': 11, 'uvIndexTime': 1560320100, 'visibility': 9.13, 'ozone': 282.59, 'temperatureMin': 66.68, 'temperatureMinTime': 1560294900, 'temperatureMax': 84.2, 'temperatureMaxTime': 1560320100, 'apparentTemperatureMin': 66.68, 'apparentTemperatureMinTime': 1560294900, 'apparentTemperatureMax': 85.05, 'apparentTemperatureMaxTime': 1560320100}, {'time': 1560363300, 'summary': 'Mostly cloudy starting in the afternoon.', 'icon': 'partly-cloudy-night', 'sunriseTime': 1560381839, 'sunsetTime': 1560431785, 'moonPhase': 0.36, 'precipIntensity': 0.0095, 'precipIntensityMax': 0.019, 'precipIntensityMaxTime': 1560438900, 'precipProbability': 0.4, 'precipType': 'rain', 'temperatureHigh': 85.85, 'temperatureHighTime': 1560413700, 'temperatureLow': 69.12, 'temperatureLowTime': 1560467700, 'apparentTemperatureHigh': 87.46, 'apparentTemperatureHighTime': 1560413700, 'apparentTemperatureLow': 69.12, 'apparentTemperatureLowTime': 1560467700, 'dewPoint': 61.48, 'humidity': 0.61, 'pressure': 1003.16, 'windSpeed': 1.31, 'windGust': 6.44, 'windGustTime': 1560446100, 'windBearing': 29, 'cloudCover': 0.43, 'uvIndex': 11, 'uvIndexTime': 1560402900, 'visibility': 8.19, 'ozone': 277.46, 'temperatureMin': 68.68, 'temperatureMinTime': 1560381300, 'temperatureMax': 85.85, 'temperatureMaxTime': 1560413700, 'apparentTemperatureMin': 68.68, 'apparentTemperatureMinTime': 1560381300, 'apparentTemperatureMax': 87.46, 'apparentTemperatureMaxTime': 1560413700}, {'time': 1560449700, 'summary': 'Light rain in the evening.', 'icon': 'rain', 'sunriseTime': 1560468243, 'sunsetTime': 1560518205, 'moonPhase': 0.4, 'precipIntensity': 0.0124, 'precipIntensityMax': 0.0367, 'precipIntensityMaxTime': 1560518100, 'precipProbability': 0.38, 'precipType': 'rain', 'temperatureHigh': 83.84, 'temperatureHighTime': 1560496500, 'temperatureLow': 68.54, 'temperatureLowTime': 1560554100, 'apparentTemperatureHigh': 85.63, 'apparentTemperatureHighTime': 1560496500, 'apparentTemperatureLow': 68.54, 'apparentTemperatureLowTime': 1560554100, 'dewPoint': 62.23, 'humidity': 0.63, 'pressure': 1000.96, 'windSpeed': 0.58, 'windGust': 7.09, 'windGustTime': 1560503700, 'windBearing': 38, 'cloudCover': 0.76, 'uvIndex': 8, 'uvIndexTime': 1560489300, 'visibility': 7.73, 'ozone': 275.03, 'temperatureMin': 69.12, 'temperatureMinTime': 1560467700, 'temperatureMax': 83.84, 'temperatureMaxTime': 1560496500, 'apparentTemperatureMin': 69.12, 'apparentTemperatureMinTime': 1560467700, 'apparentTemperatureMax': 85.63, 'apparentTemperatureMaxTime': 1560496500}, {'time': 1560536100, 'summary': 'Rain starting in the afternoon, continuing until evening.', 'icon': 'rain', 'sunriseTime': 1560554647, 'sunsetTime': 1560604624, 'moonPhase': 0.43, 'precipIntensity': 0.0187, 'precipIntensityMax': 0.0586, 'precipIntensityMaxTime': 1560590100, 'precipProbability': 0.5, 'precipType': 'rain', 'temperatureHigh': 82.17, 'temperatureHighTime': 1560575700, 'temperatureLow': 68.21, 'temperatureLowTime': 1560640500, 'apparentTemperatureHigh': 83.91, 'apparentTemperatureHighTime': 1560579300, 'apparentTemperatureLow': 68.22, 'apparentTemperatureLowTime': 1560640500, 'dewPoint': 63.17, 'humidity': 0.69, 'pressure': 1000.87, 'windSpeed': 0.88, 'windGust': 6.24, 'windGustTime': 1560536100, 'windBearing': 38, 'cloudCover': 0.82, 'uvIndex': 8, 'uvIndexTime': 1560575700, 'visibility': 7.48, 'ozone': 275.87, 'temperatureMin': 68.54, 'temperatureMinTime': 1560554100, 'temperatureMax': 82.17, 'temperatureMaxTime': 1560575700, 'apparentTemperatureMin': 68.54, 'apparentTemperatureMinTime': 1560554100, 'apparentTemperatureMax': 83.91, 'apparentTemperatureMaxTime': 1560579300}, {'time': 1560622500, 'summary': 'Mostly cloudy throughout the day.', 'icon': 'partly-cloudy-day', 'sunriseTime': 1560641053, 'sunsetTime': 1560691043, 'moonPhase': 0.47, 'precipIntensity': 0.0103, 'precipIntensityMax': 0.0277, 'precipIntensityMaxTime': 1560683700, 'precipProbability': 0.38, 'precipType': 'rain', 'temperatureHigh': 85.78, 'temperatureHighTime': 1560669300, 'temperatureLow': 68.92, 'temperatureLowTime': 1560726900, 'apparentTemperatureHigh': 86.79, 'apparentTemperatureHighTime': 1560665700, 'apparentTemperatureLow': 68.92, 'apparentTemperatureLowTime': 1560726900, 'dewPoint': 62.38, 'humidity': 0.63, 'pressure': 999.94, 'windSpeed': 0.12, 'windGust': 6.86, 'windGustTime': 1560676500, 'windBearing': 192, 'cloudCover': 0.65, 'uvIndex': 10, 'uvIndexTime': 1560662100, 'visibility': 7.22, 'ozone': 272.14, 'temperatureMin': 68.21, 'temperatureMinTime': 1560640500, 'temperatureMax': 85.78, 'temperatureMaxTime': 1560669300, 'apparentTemperatureMin': 68.22, 'apparentTemperatureMinTime': 1560640500, 'apparentTemperatureMax': 86.79, 'apparentTemperatureMaxTime': 1560665700}, {'time': 1560708900, 'summary': 'Mostly cloudy throughout the day.', 'icon': 'partly-cloudy-day', 'sunriseTime': 1560727460, 'sunsetTime': 1560777460, 'moonPhase': 0.51, 'precipIntensity': 0.0064, 'precipIntensityMax': 0.0222, 'precipIntensityMaxTime': 1560773700, 'precipProbability': 0.25, 'precipType': 'rain', 'temperatureHigh': 87.62, 'temperatureHighTime': 1560752100, 'temperatureLow': 71.54, 'temperatureLowTime': 1560813300, 'apparentTemperatureHigh': 87.65, 'apparentTemperatureHighTime': 1560752100, 'apparentTemperatureLow': 71.54, 'apparentTemperatureLowTime': 1560813300, 'dewPoint': 59.49, 'humidity': 0.54, 'pressure': 998.81, 'windSpeed': 0.63, 'windGust': 5.99, 'windGustTime': 1560752100, 'windBearing': 286, 'cloudCover': 0.75, 'uvIndex': 7, 'uvIndexTime': 1560748500, 'visibility': 7.67, 'ozone': 268.63, 'temperatureMin': 68.92, 'temperatureMinTime': 1560726900, 'temperatureMax': 87.62, 'temperatureMaxTime': 1560752100, 'apparentTemperatureMin': 68.92, 'apparentTemperatureMinTime': 1560726900, 'apparentTemperatureMax': 87.65, 'apparentTemperatureMaxTime': 1560752100}, {'time': 1560795300, 'summary': 'Mostly cloudy throughout the day.', 'icon': 'partly-cloudy-day', 'sunriseTime': 1560813868, 'sunsetTime': 1560863877, 'moonPhase': 0.53, 'precipIntensity': 0.0127, 'precipIntensityMax': 0.0324, 'precipIntensityMaxTime': 1560867300, 'precipProbability': 0.29, 'precipType': 'rain', 'temperatureHigh': 91.25, 'temperatureHighTime': 1560842100, 'temperatureLow': 72.29, 'temperatureLowTime': 1560899700, 'apparentTemperatureHigh': 91.25, 'apparentTemperatureHighTime': 1560842100, 'apparentTemperatureLow': 72.29, 'apparentTemperatureLowTime': 1560899700, 'dewPoint': 57.28, 'humidity': 0.45, 'pressure': 998.38, 'windSpeed': 0.64, 'windGust': 6.84, 'windGustTime': 1560849300, 'windBearing': 229, 'cloudCover': 0.68, 'uvIndex': 9, 'uvIndexTime': 1560834900, 'visibility': 7.12, 'ozone': 267.94, 'temperatureMin': 71.54, 'temperatureMinTime': 1560813300, 'temperatureMax': 91.25, 'temperatureMaxTime': 1560842100, 'apparentTemperatureMin': 71.54, 'apparentTemperatureMinTime': 1560813300, 'apparentTemperatureMax': 91.25, 'apparentTemperatureMaxTime': 1560842100}]}\n"
     ]
    }
   ],
   "source": [
    "print(data_nep['daily'])"
   ]
  },
  {
   "cell_type": "code",
   "execution_count": 10,
   "metadata": {},
   "outputs": [
    {
     "name": "stdout",
     "output_type": "stream",
     "text": [
      "dict_keys(['summary', 'icon', 'data'])\n"
     ]
    }
   ],
   "source": [
    "\n",
    "\n",
    "print(data_nep['daily'].keys())\n"
   ]
  },
  {
   "cell_type": "code",
   "execution_count": 11,
   "metadata": {},
   "outputs": [
    {
     "name": "stdout",
     "output_type": "stream",
     "text": [
      "[{'time': 1560190500, 'summary': 'Light rain in the afternoon.', 'icon': 'rain', 'sunriseTime': 1560209036, 'sunsetTime': 1560258941, 'moonPhase': 0.29, 'precipIntensity': 0.0096, 'precipIntensityMax': 0.0514, 'precipIntensityMaxTime': 1560244500, 'precipProbability': 0.41, 'precipType': 'rain', 'temperatureHigh': 84.29, 'temperatureHighTime': 1560233700, 'temperatureLow': 66.68, 'temperatureLowTime': 1560294900, 'apparentTemperatureHigh': 84.99, 'apparentTemperatureHighTime': 1560233700, 'apparentTemperatureLow': 66.68, 'apparentTemperatureLowTime': 1560294900, 'dewPoint': 64.44, 'humidity': 0.73, 'pressure': 1003.62, 'windSpeed': 1.01, 'windGust': 6.37, 'windGustTime': 1560194100, 'windBearing': 93, 'cloudCover': 0.63, 'uvIndex': 9, 'uvIndexTime': 1560230100, 'visibility': 5.93, 'ozone': 278.91, 'temperatureMin': 68.39, 'temperatureMinTime': 1560201300, 'temperatureMax': 84.29, 'temperatureMaxTime': 1560233700, 'apparentTemperatureMin': 69.01, 'apparentTemperatureMinTime': 1560273300, 'apparentTemperatureMax': 84.99, 'apparentTemperatureMaxTime': 1560233700}, {'time': 1560276900, 'summary': 'Partly cloudy throughout the day.', 'icon': 'partly-cloudy-day', 'sunriseTime': 1560295437, 'sunsetTime': 1560345364, 'moonPhase': 0.33, 'precipIntensity': 0.0051, 'precipIntensityMax': 0.0166, 'precipIntensityMaxTime': 1560327300, 'precipProbability': 0.22, 'precipType': 'rain', 'temperatureHigh': 84.2, 'temperatureHighTime': 1560320100, 'temperatureLow': 68.68, 'temperatureLowTime': 1560381300, 'apparentTemperatureHigh': 85.05, 'apparentTemperatureHighTime': 1560320100, 'apparentTemperatureLow': 68.68, 'apparentTemperatureLowTime': 1560381300, 'dewPoint': 59.14, 'humidity': 0.6, 'pressure': 1004.42, 'windSpeed': 1.53, 'windGust': 6.56, 'windGustTime': 1560276900, 'windBearing': 64, 'cloudCover': 0.51, 'uvIndex': 11, 'uvIndexTime': 1560320100, 'visibility': 9.13, 'ozone': 282.59, 'temperatureMin': 66.68, 'temperatureMinTime': 1560294900, 'temperatureMax': 84.2, 'temperatureMaxTime': 1560320100, 'apparentTemperatureMin': 66.68, 'apparentTemperatureMinTime': 1560294900, 'apparentTemperatureMax': 85.05, 'apparentTemperatureMaxTime': 1560320100}, {'time': 1560363300, 'summary': 'Mostly cloudy starting in the afternoon.', 'icon': 'partly-cloudy-night', 'sunriseTime': 1560381839, 'sunsetTime': 1560431785, 'moonPhase': 0.36, 'precipIntensity': 0.0095, 'precipIntensityMax': 0.019, 'precipIntensityMaxTime': 1560438900, 'precipProbability': 0.4, 'precipType': 'rain', 'temperatureHigh': 85.85, 'temperatureHighTime': 1560413700, 'temperatureLow': 69.12, 'temperatureLowTime': 1560467700, 'apparentTemperatureHigh': 87.46, 'apparentTemperatureHighTime': 1560413700, 'apparentTemperatureLow': 69.12, 'apparentTemperatureLowTime': 1560467700, 'dewPoint': 61.48, 'humidity': 0.61, 'pressure': 1003.16, 'windSpeed': 1.31, 'windGust': 6.44, 'windGustTime': 1560446100, 'windBearing': 29, 'cloudCover': 0.43, 'uvIndex': 11, 'uvIndexTime': 1560402900, 'visibility': 8.19, 'ozone': 277.46, 'temperatureMin': 68.68, 'temperatureMinTime': 1560381300, 'temperatureMax': 85.85, 'temperatureMaxTime': 1560413700, 'apparentTemperatureMin': 68.68, 'apparentTemperatureMinTime': 1560381300, 'apparentTemperatureMax': 87.46, 'apparentTemperatureMaxTime': 1560413700}, {'time': 1560449700, 'summary': 'Light rain in the evening.', 'icon': 'rain', 'sunriseTime': 1560468243, 'sunsetTime': 1560518205, 'moonPhase': 0.4, 'precipIntensity': 0.0124, 'precipIntensityMax': 0.0367, 'precipIntensityMaxTime': 1560518100, 'precipProbability': 0.38, 'precipType': 'rain', 'temperatureHigh': 83.84, 'temperatureHighTime': 1560496500, 'temperatureLow': 68.54, 'temperatureLowTime': 1560554100, 'apparentTemperatureHigh': 85.63, 'apparentTemperatureHighTime': 1560496500, 'apparentTemperatureLow': 68.54, 'apparentTemperatureLowTime': 1560554100, 'dewPoint': 62.23, 'humidity': 0.63, 'pressure': 1000.96, 'windSpeed': 0.58, 'windGust': 7.09, 'windGustTime': 1560503700, 'windBearing': 38, 'cloudCover': 0.76, 'uvIndex': 8, 'uvIndexTime': 1560489300, 'visibility': 7.73, 'ozone': 275.03, 'temperatureMin': 69.12, 'temperatureMinTime': 1560467700, 'temperatureMax': 83.84, 'temperatureMaxTime': 1560496500, 'apparentTemperatureMin': 69.12, 'apparentTemperatureMinTime': 1560467700, 'apparentTemperatureMax': 85.63, 'apparentTemperatureMaxTime': 1560496500}, {'time': 1560536100, 'summary': 'Rain starting in the afternoon, continuing until evening.', 'icon': 'rain', 'sunriseTime': 1560554647, 'sunsetTime': 1560604624, 'moonPhase': 0.43, 'precipIntensity': 0.0187, 'precipIntensityMax': 0.0586, 'precipIntensityMaxTime': 1560590100, 'precipProbability': 0.5, 'precipType': 'rain', 'temperatureHigh': 82.17, 'temperatureHighTime': 1560575700, 'temperatureLow': 68.21, 'temperatureLowTime': 1560640500, 'apparentTemperatureHigh': 83.91, 'apparentTemperatureHighTime': 1560579300, 'apparentTemperatureLow': 68.22, 'apparentTemperatureLowTime': 1560640500, 'dewPoint': 63.17, 'humidity': 0.69, 'pressure': 1000.87, 'windSpeed': 0.88, 'windGust': 6.24, 'windGustTime': 1560536100, 'windBearing': 38, 'cloudCover': 0.82, 'uvIndex': 8, 'uvIndexTime': 1560575700, 'visibility': 7.48, 'ozone': 275.87, 'temperatureMin': 68.54, 'temperatureMinTime': 1560554100, 'temperatureMax': 82.17, 'temperatureMaxTime': 1560575700, 'apparentTemperatureMin': 68.54, 'apparentTemperatureMinTime': 1560554100, 'apparentTemperatureMax': 83.91, 'apparentTemperatureMaxTime': 1560579300}, {'time': 1560622500, 'summary': 'Mostly cloudy throughout the day.', 'icon': 'partly-cloudy-day', 'sunriseTime': 1560641053, 'sunsetTime': 1560691043, 'moonPhase': 0.47, 'precipIntensity': 0.0103, 'precipIntensityMax': 0.0277, 'precipIntensityMaxTime': 1560683700, 'precipProbability': 0.38, 'precipType': 'rain', 'temperatureHigh': 85.78, 'temperatureHighTime': 1560669300, 'temperatureLow': 68.92, 'temperatureLowTime': 1560726900, 'apparentTemperatureHigh': 86.79, 'apparentTemperatureHighTime': 1560665700, 'apparentTemperatureLow': 68.92, 'apparentTemperatureLowTime': 1560726900, 'dewPoint': 62.38, 'humidity': 0.63, 'pressure': 999.94, 'windSpeed': 0.12, 'windGust': 6.86, 'windGustTime': 1560676500, 'windBearing': 192, 'cloudCover': 0.65, 'uvIndex': 10, 'uvIndexTime': 1560662100, 'visibility': 7.22, 'ozone': 272.14, 'temperatureMin': 68.21, 'temperatureMinTime': 1560640500, 'temperatureMax': 85.78, 'temperatureMaxTime': 1560669300, 'apparentTemperatureMin': 68.22, 'apparentTemperatureMinTime': 1560640500, 'apparentTemperatureMax': 86.79, 'apparentTemperatureMaxTime': 1560665700}, {'time': 1560708900, 'summary': 'Mostly cloudy throughout the day.', 'icon': 'partly-cloudy-day', 'sunriseTime': 1560727460, 'sunsetTime': 1560777460, 'moonPhase': 0.51, 'precipIntensity': 0.0064, 'precipIntensityMax': 0.0222, 'precipIntensityMaxTime': 1560773700, 'precipProbability': 0.25, 'precipType': 'rain', 'temperatureHigh': 87.62, 'temperatureHighTime': 1560752100, 'temperatureLow': 71.54, 'temperatureLowTime': 1560813300, 'apparentTemperatureHigh': 87.65, 'apparentTemperatureHighTime': 1560752100, 'apparentTemperatureLow': 71.54, 'apparentTemperatureLowTime': 1560813300, 'dewPoint': 59.49, 'humidity': 0.54, 'pressure': 998.81, 'windSpeed': 0.63, 'windGust': 5.99, 'windGustTime': 1560752100, 'windBearing': 286, 'cloudCover': 0.75, 'uvIndex': 7, 'uvIndexTime': 1560748500, 'visibility': 7.67, 'ozone': 268.63, 'temperatureMin': 68.92, 'temperatureMinTime': 1560726900, 'temperatureMax': 87.62, 'temperatureMaxTime': 1560752100, 'apparentTemperatureMin': 68.92, 'apparentTemperatureMinTime': 1560726900, 'apparentTemperatureMax': 87.65, 'apparentTemperatureMaxTime': 1560752100}, {'time': 1560795300, 'summary': 'Mostly cloudy throughout the day.', 'icon': 'partly-cloudy-day', 'sunriseTime': 1560813868, 'sunsetTime': 1560863877, 'moonPhase': 0.53, 'precipIntensity': 0.0127, 'precipIntensityMax': 0.0324, 'precipIntensityMaxTime': 1560867300, 'precipProbability': 0.29, 'precipType': 'rain', 'temperatureHigh': 91.25, 'temperatureHighTime': 1560842100, 'temperatureLow': 72.29, 'temperatureLowTime': 1560899700, 'apparentTemperatureHigh': 91.25, 'apparentTemperatureHighTime': 1560842100, 'apparentTemperatureLow': 72.29, 'apparentTemperatureLowTime': 1560899700, 'dewPoint': 57.28, 'humidity': 0.45, 'pressure': 998.38, 'windSpeed': 0.64, 'windGust': 6.84, 'windGustTime': 1560849300, 'windBearing': 229, 'cloudCover': 0.68, 'uvIndex': 9, 'uvIndexTime': 1560834900, 'visibility': 7.12, 'ozone': 267.94, 'temperatureMin': 71.54, 'temperatureMinTime': 1560813300, 'temperatureMax': 91.25, 'temperatureMaxTime': 1560842100, 'apparentTemperatureMin': 71.54, 'apparentTemperatureMinTime': 1560813300, 'apparentTemperatureMax': 91.25, 'apparentTemperatureMaxTime': 1560842100}]\n"
     ]
    }
   ],
   "source": [
    "daily_data_nep = data_nep['daily']['data']\n",
    "\n",
    "print(daily_data_nep)\n",
    "\n"
   ]
  },
  {
   "cell_type": "code",
   "execution_count": 12,
   "metadata": {},
   "outputs": [
    {
     "name": "stdout",
     "output_type": "stream",
     "text": [
      "{'time': 1560190500, 'summary': 'Light rain in the afternoon.', 'icon': 'rain', 'sunriseTime': 1560209036, 'sunsetTime': 1560258941, 'moonPhase': 0.29, 'precipIntensity': 0.0096, 'precipIntensityMax': 0.0514, 'precipIntensityMaxTime': 1560244500, 'precipProbability': 0.41, 'precipType': 'rain', 'temperatureHigh': 84.29, 'temperatureHighTime': 1560233700, 'temperatureLow': 66.68, 'temperatureLowTime': 1560294900, 'apparentTemperatureHigh': 84.99, 'apparentTemperatureHighTime': 1560233700, 'apparentTemperatureLow': 66.68, 'apparentTemperatureLowTime': 1560294900, 'dewPoint': 64.44, 'humidity': 0.73, 'pressure': 1003.62, 'windSpeed': 1.01, 'windGust': 6.37, 'windGustTime': 1560194100, 'windBearing': 93, 'cloudCover': 0.63, 'uvIndex': 9, 'uvIndexTime': 1560230100, 'visibility': 5.93, 'ozone': 278.91, 'temperatureMin': 68.39, 'temperatureMinTime': 1560201300, 'temperatureMax': 84.29, 'temperatureMaxTime': 1560233700, 'apparentTemperatureMin': 69.01, 'apparentTemperatureMinTime': 1560273300, 'apparentTemperatureMax': 84.99, 'apparentTemperatureMaxTime': 1560233700}\n"
     ]
    }
   ],
   "source": [
    "first_item_daily_data_nep_list = daily_data_nep[0]\n",
    "print(first_item_daily_data_nep_list)\n"
   ]
  },
  {
   "cell_type": "code",
   "execution_count": 13,
   "metadata": {},
   "outputs": [
    {
     "name": "stdout",
     "output_type": "stream",
     "text": [
      "0.29\n"
     ]
    }
   ],
   "source": [
    "print(first_item_daily_data_nep_list['moonPhase'])"
   ]
  },
  {
   "cell_type": "markdown",
   "metadata": {},
   "source": [
    "## 4) What's the difference between the high and low temperatures for today?"
   ]
  },
  {
   "cell_type": "code",
   "execution_count": 14,
   "metadata": {},
   "outputs": [
    {
     "name": "stdout",
     "output_type": "stream",
     "text": [
      "17.61\n"
     ]
    }
   ],
   "source": [
    "high_temp = first_item_daily_data_nep_list['temperatureHigh']\n",
    "\n",
    "\n",
    "low_temp = first_item_daily_data_nep_list['temperatureLow']\n",
    "\n",
    "Difference_high_low_temp = high_temp - low_temp\n",
    "\n",
    "print(Difference_high_low_temp)\n",
    "\n"
   ]
  },
  {
   "cell_type": "markdown",
   "metadata": {},
   "source": [
    "## 5) Go through the daily forecasts, printing out the next week's worth of predictions.\n",
    "\n",
    "I'd like to know the **high temperature** for each day, and whether it's **hot, warm, or cold** (based on what temperatures you think are hot, warm or cold).\n",
    "\n",
    "- *Tip: Is it returning F or C? You can change them by adding `?units=us` or `?units=si` onto the end of the URL.*\n",
    "- *Tip: You'll need to use an `if` statement to say whether it is hot, warm or cold.*"
   ]
  },
  {
   "cell_type": "code",
   "execution_count": 15,
   "metadata": {},
   "outputs": [
    {
     "name": "stdout",
     "output_type": "stream",
     "text": [
      "[{'time': 1560190500, 'summary': 'Light rain in the afternoon.', 'icon': 'rain', 'sunriseTime': 1560209036, 'sunsetTime': 1560258941, 'moonPhase': 0.29, 'precipIntensity': 0.0096, 'precipIntensityMax': 0.0514, 'precipIntensityMaxTime': 1560244500, 'precipProbability': 0.41, 'precipType': 'rain', 'temperatureHigh': 84.29, 'temperatureHighTime': 1560233700, 'temperatureLow': 66.68, 'temperatureLowTime': 1560294900, 'apparentTemperatureHigh': 84.99, 'apparentTemperatureHighTime': 1560233700, 'apparentTemperatureLow': 66.68, 'apparentTemperatureLowTime': 1560294900, 'dewPoint': 64.44, 'humidity': 0.73, 'pressure': 1003.62, 'windSpeed': 1.01, 'windGust': 6.37, 'windGustTime': 1560194100, 'windBearing': 93, 'cloudCover': 0.63, 'uvIndex': 9, 'uvIndexTime': 1560230100, 'visibility': 5.93, 'ozone': 278.91, 'temperatureMin': 68.39, 'temperatureMinTime': 1560201300, 'temperatureMax': 84.29, 'temperatureMaxTime': 1560233700, 'apparentTemperatureMin': 69.01, 'apparentTemperatureMinTime': 1560273300, 'apparentTemperatureMax': 84.99, 'apparentTemperatureMaxTime': 1560233700}, {'time': 1560276900, 'summary': 'Partly cloudy throughout the day.', 'icon': 'partly-cloudy-day', 'sunriseTime': 1560295437, 'sunsetTime': 1560345364, 'moonPhase': 0.33, 'precipIntensity': 0.0051, 'precipIntensityMax': 0.0166, 'precipIntensityMaxTime': 1560327300, 'precipProbability': 0.22, 'precipType': 'rain', 'temperatureHigh': 84.2, 'temperatureHighTime': 1560320100, 'temperatureLow': 68.68, 'temperatureLowTime': 1560381300, 'apparentTemperatureHigh': 85.05, 'apparentTemperatureHighTime': 1560320100, 'apparentTemperatureLow': 68.68, 'apparentTemperatureLowTime': 1560381300, 'dewPoint': 59.14, 'humidity': 0.6, 'pressure': 1004.42, 'windSpeed': 1.53, 'windGust': 6.56, 'windGustTime': 1560276900, 'windBearing': 64, 'cloudCover': 0.51, 'uvIndex': 11, 'uvIndexTime': 1560320100, 'visibility': 9.13, 'ozone': 282.59, 'temperatureMin': 66.68, 'temperatureMinTime': 1560294900, 'temperatureMax': 84.2, 'temperatureMaxTime': 1560320100, 'apparentTemperatureMin': 66.68, 'apparentTemperatureMinTime': 1560294900, 'apparentTemperatureMax': 85.05, 'apparentTemperatureMaxTime': 1560320100}, {'time': 1560363300, 'summary': 'Mostly cloudy starting in the afternoon.', 'icon': 'partly-cloudy-night', 'sunriseTime': 1560381839, 'sunsetTime': 1560431785, 'moonPhase': 0.36, 'precipIntensity': 0.0095, 'precipIntensityMax': 0.019, 'precipIntensityMaxTime': 1560438900, 'precipProbability': 0.4, 'precipType': 'rain', 'temperatureHigh': 85.85, 'temperatureHighTime': 1560413700, 'temperatureLow': 69.12, 'temperatureLowTime': 1560467700, 'apparentTemperatureHigh': 87.46, 'apparentTemperatureHighTime': 1560413700, 'apparentTemperatureLow': 69.12, 'apparentTemperatureLowTime': 1560467700, 'dewPoint': 61.48, 'humidity': 0.61, 'pressure': 1003.16, 'windSpeed': 1.31, 'windGust': 6.44, 'windGustTime': 1560446100, 'windBearing': 29, 'cloudCover': 0.43, 'uvIndex': 11, 'uvIndexTime': 1560402900, 'visibility': 8.19, 'ozone': 277.46, 'temperatureMin': 68.68, 'temperatureMinTime': 1560381300, 'temperatureMax': 85.85, 'temperatureMaxTime': 1560413700, 'apparentTemperatureMin': 68.68, 'apparentTemperatureMinTime': 1560381300, 'apparentTemperatureMax': 87.46, 'apparentTemperatureMaxTime': 1560413700}, {'time': 1560449700, 'summary': 'Light rain in the evening.', 'icon': 'rain', 'sunriseTime': 1560468243, 'sunsetTime': 1560518205, 'moonPhase': 0.4, 'precipIntensity': 0.0124, 'precipIntensityMax': 0.0367, 'precipIntensityMaxTime': 1560518100, 'precipProbability': 0.38, 'precipType': 'rain', 'temperatureHigh': 83.84, 'temperatureHighTime': 1560496500, 'temperatureLow': 68.54, 'temperatureLowTime': 1560554100, 'apparentTemperatureHigh': 85.63, 'apparentTemperatureHighTime': 1560496500, 'apparentTemperatureLow': 68.54, 'apparentTemperatureLowTime': 1560554100, 'dewPoint': 62.23, 'humidity': 0.63, 'pressure': 1000.96, 'windSpeed': 0.58, 'windGust': 7.09, 'windGustTime': 1560503700, 'windBearing': 38, 'cloudCover': 0.76, 'uvIndex': 8, 'uvIndexTime': 1560489300, 'visibility': 7.73, 'ozone': 275.03, 'temperatureMin': 69.12, 'temperatureMinTime': 1560467700, 'temperatureMax': 83.84, 'temperatureMaxTime': 1560496500, 'apparentTemperatureMin': 69.12, 'apparentTemperatureMinTime': 1560467700, 'apparentTemperatureMax': 85.63, 'apparentTemperatureMaxTime': 1560496500}, {'time': 1560536100, 'summary': 'Rain starting in the afternoon, continuing until evening.', 'icon': 'rain', 'sunriseTime': 1560554647, 'sunsetTime': 1560604624, 'moonPhase': 0.43, 'precipIntensity': 0.0187, 'precipIntensityMax': 0.0586, 'precipIntensityMaxTime': 1560590100, 'precipProbability': 0.5, 'precipType': 'rain', 'temperatureHigh': 82.17, 'temperatureHighTime': 1560575700, 'temperatureLow': 68.21, 'temperatureLowTime': 1560640500, 'apparentTemperatureHigh': 83.91, 'apparentTemperatureHighTime': 1560579300, 'apparentTemperatureLow': 68.22, 'apparentTemperatureLowTime': 1560640500, 'dewPoint': 63.17, 'humidity': 0.69, 'pressure': 1000.87, 'windSpeed': 0.88, 'windGust': 6.24, 'windGustTime': 1560536100, 'windBearing': 38, 'cloudCover': 0.82, 'uvIndex': 8, 'uvIndexTime': 1560575700, 'visibility': 7.48, 'ozone': 275.87, 'temperatureMin': 68.54, 'temperatureMinTime': 1560554100, 'temperatureMax': 82.17, 'temperatureMaxTime': 1560575700, 'apparentTemperatureMin': 68.54, 'apparentTemperatureMinTime': 1560554100, 'apparentTemperatureMax': 83.91, 'apparentTemperatureMaxTime': 1560579300}, {'time': 1560622500, 'summary': 'Mostly cloudy throughout the day.', 'icon': 'partly-cloudy-day', 'sunriseTime': 1560641053, 'sunsetTime': 1560691043, 'moonPhase': 0.47, 'precipIntensity': 0.0103, 'precipIntensityMax': 0.0277, 'precipIntensityMaxTime': 1560683700, 'precipProbability': 0.38, 'precipType': 'rain', 'temperatureHigh': 85.78, 'temperatureHighTime': 1560669300, 'temperatureLow': 68.92, 'temperatureLowTime': 1560726900, 'apparentTemperatureHigh': 86.79, 'apparentTemperatureHighTime': 1560665700, 'apparentTemperatureLow': 68.92, 'apparentTemperatureLowTime': 1560726900, 'dewPoint': 62.38, 'humidity': 0.63, 'pressure': 999.94, 'windSpeed': 0.12, 'windGust': 6.86, 'windGustTime': 1560676500, 'windBearing': 192, 'cloudCover': 0.65, 'uvIndex': 10, 'uvIndexTime': 1560662100, 'visibility': 7.22, 'ozone': 272.14, 'temperatureMin': 68.21, 'temperatureMinTime': 1560640500, 'temperatureMax': 85.78, 'temperatureMaxTime': 1560669300, 'apparentTemperatureMin': 68.22, 'apparentTemperatureMinTime': 1560640500, 'apparentTemperatureMax': 86.79, 'apparentTemperatureMaxTime': 1560665700}, {'time': 1560708900, 'summary': 'Mostly cloudy throughout the day.', 'icon': 'partly-cloudy-day', 'sunriseTime': 1560727460, 'sunsetTime': 1560777460, 'moonPhase': 0.51, 'precipIntensity': 0.0064, 'precipIntensityMax': 0.0222, 'precipIntensityMaxTime': 1560773700, 'precipProbability': 0.25, 'precipType': 'rain', 'temperatureHigh': 87.62, 'temperatureHighTime': 1560752100, 'temperatureLow': 71.54, 'temperatureLowTime': 1560813300, 'apparentTemperatureHigh': 87.65, 'apparentTemperatureHighTime': 1560752100, 'apparentTemperatureLow': 71.54, 'apparentTemperatureLowTime': 1560813300, 'dewPoint': 59.49, 'humidity': 0.54, 'pressure': 998.81, 'windSpeed': 0.63, 'windGust': 5.99, 'windGustTime': 1560752100, 'windBearing': 286, 'cloudCover': 0.75, 'uvIndex': 7, 'uvIndexTime': 1560748500, 'visibility': 7.67, 'ozone': 268.63, 'temperatureMin': 68.92, 'temperatureMinTime': 1560726900, 'temperatureMax': 87.62, 'temperatureMaxTime': 1560752100, 'apparentTemperatureMin': 68.92, 'apparentTemperatureMinTime': 1560726900, 'apparentTemperatureMax': 87.65, 'apparentTemperatureMaxTime': 1560752100}, {'time': 1560795300, 'summary': 'Mostly cloudy throughout the day.', 'icon': 'partly-cloudy-day', 'sunriseTime': 1560813868, 'sunsetTime': 1560863877, 'moonPhase': 0.53, 'precipIntensity': 0.0127, 'precipIntensityMax': 0.0324, 'precipIntensityMaxTime': 1560867300, 'precipProbability': 0.29, 'precipType': 'rain', 'temperatureHigh': 91.25, 'temperatureHighTime': 1560842100, 'temperatureLow': 72.29, 'temperatureLowTime': 1560899700, 'apparentTemperatureHigh': 91.25, 'apparentTemperatureHighTime': 1560842100, 'apparentTemperatureLow': 72.29, 'apparentTemperatureLowTime': 1560899700, 'dewPoint': 57.28, 'humidity': 0.45, 'pressure': 998.38, 'windSpeed': 0.64, 'windGust': 6.84, 'windGustTime': 1560849300, 'windBearing': 229, 'cloudCover': 0.68, 'uvIndex': 9, 'uvIndexTime': 1560834900, 'visibility': 7.12, 'ozone': 267.94, 'temperatureMin': 71.54, 'temperatureMinTime': 1560813300, 'temperatureMax': 91.25, 'temperatureMaxTime': 1560842100, 'apparentTemperatureMin': 71.54, 'apparentTemperatureMinTime': 1560813300, 'apparentTemperatureMax': 91.25, 'apparentTemperatureMaxTime': 1560842100}]\n"
     ]
    }
   ],
   "source": [
    "print(daily_data_nep)"
   ]
  },
  {
   "cell_type": "code",
   "execution_count": 16,
   "metadata": {},
   "outputs": [
    {
     "name": "stdout",
     "output_type": "stream",
     "text": [
      "Warm\n",
      "84.29\n",
      "Warm\n",
      "84.2\n",
      "Warm\n",
      "85.85\n",
      "Warm\n",
      "83.84\n",
      "Warm\n",
      "82.17\n",
      "Warm\n",
      "85.78\n",
      "Warm\n",
      "87.62\n",
      "Hot\n",
      "91.25\n"
     ]
    }
   ],
   "source": [
    "for high_temp in daily_data_nep:\n",
    "    if high_temp['temperatureHigh'] > 88:\n",
    "        print(\"Hot\")\n",
    "    elif high_temp['temperatureHigh'] < 88:\n",
    "        print(\"Warm\")\n",
    "    print(high_temp['temperatureHigh'])"
   ]
  },
  {
   "cell_type": "markdown",
   "metadata": {},
   "source": [
    "# 6) What will be the hottest day in the next week? What is the high temperature on that day?\n",
    "\n",
    "It's okay if your result looks like `1453363200`. If you want to be extra-fancy, though, format it as a **real date** - the weird number is called a **UNIX timestamp**, which might help in googling.\n",
    "\n",
    "- *Tip: It's okay to skip this if it seems too difficult!*"
   ]
  },
  {
   "cell_type": "code",
   "execution_count": 17,
   "metadata": {},
   "outputs": [],
   "source": [
    "response = requests.get('https://api.darksky.net/forecast/4c2f56efa7af71166e7044038873f94c/42.3601,-71.0589,1560643200?exclude=currently,flags')\n",
    "data_next_week = response.json()"
   ]
  },
  {
   "cell_type": "code",
   "execution_count": 18,
   "metadata": {},
   "outputs": [
    {
     "name": "stdout",
     "output_type": "stream",
     "text": [
      "{'latitude': 42.3601, 'longitude': -71.0589, 'timezone': 'America/New_York', 'hourly': {'summary': 'Partly cloudy overnight.', 'icon': 'partly-cloudy-night', 'data': [{'time': 1560571200, 'summary': 'Partly Cloudy', 'icon': 'partly-cloudy-night', 'precipIntensity': 0, 'precipProbability': 0, 'temperature': 63.36, 'apparentTemperature': 63.36, 'dewPoint': 45.43, 'humidity': 0.52, 'pressure': 1011.21, 'windSpeed': 10.81, 'windGust': 27.05, 'windBearing': 281, 'cloudCover': 0.46, 'uvIndex': 0, 'visibility': 10, 'ozone': 381.21}, {'time': 1560574800, 'summary': 'Partly Cloudy', 'icon': 'partly-cloudy-night', 'precipIntensity': 0, 'precipProbability': 0, 'temperature': 63.16, 'apparentTemperature': 63.16, 'dewPoint': 44.99, 'humidity': 0.52, 'pressure': 1011.5, 'windSpeed': 10.74, 'windGust': 27.69, 'windBearing': 259, 'cloudCover': 0.35, 'uvIndex': 0, 'visibility': 10, 'ozone': 383.68}, {'time': 1560578400, 'summary': 'Partly Cloudy', 'icon': 'partly-cloudy-night', 'precipIntensity': 0, 'precipProbability': 0, 'temperature': 62.74, 'apparentTemperature': 62.74, 'dewPoint': 44.66, 'humidity': 0.52, 'pressure': 1011.86, 'windSpeed': 11.46, 'windGust': 28.31, 'windBearing': 270, 'cloudCover': 0.26, 'uvIndex': 0, 'visibility': 10, 'ozone': 383.47}, {'time': 1560582000, 'summary': 'Clear', 'icon': 'clear-night', 'precipIntensity': 0, 'precipProbability': 0, 'temperature': 62.24, 'apparentTemperature': 62.24, 'dewPoint': 44.45, 'humidity': 0.52, 'pressure': 1012.38, 'windSpeed': 10.56, 'windGust': 29.21, 'windBearing': 213, 'cloudCover': 0.22, 'uvIndex': 0, 'visibility': 10, 'ozone': 378.28}, {'time': 1560585600, 'summary': 'Clear', 'icon': 'clear-night', 'precipIntensity': 0, 'precipProbability': 0, 'temperature': 61.85, 'apparentTemperature': 61.85, 'dewPoint': 44.37, 'humidity': 0.53, 'pressure': 1012.94, 'windSpeed': 10.1, 'windGust': 30.09, 'windBearing': 328, 'cloudCover': 0.2, 'uvIndex': 0, 'visibility': 10, 'ozone': 370.49}, {'time': 1560589200, 'summary': 'Clear', 'icon': 'clear-night', 'precipIntensity': 0, 'precipProbability': 0, 'temperature': 62.2, 'apparentTemperature': 62.2, 'dewPoint': 44.51, 'humidity': 0.52, 'pressure': 1013.51, 'windSpeed': 11.04, 'windGust': 29.84, 'windBearing': 272, 'cloudCover': 0.21, 'uvIndex': 0, 'visibility': 10, 'ozone': 364.02}, {'time': 1560592800, 'summary': 'Partly Cloudy', 'icon': 'partly-cloudy-day', 'precipIntensity': 0, 'precipProbability': 0, 'temperature': 63.43, 'apparentTemperature': 63.43, 'dewPoint': 45.04, 'humidity': 0.51, 'pressure': 1014.08, 'windSpeed': 10.61, 'windGust': 27.4, 'windBearing': 323, 'cloudCover': 0.29, 'uvIndex': 0, 'visibility': 10, 'ozone': 360.45}, {'time': 1560596400, 'summary': 'Partly Cloudy', 'icon': 'partly-cloudy-day', 'precipIntensity': 0, 'precipProbability': 0, 'temperature': 65.05, 'apparentTemperature': 65.05, 'dewPoint': 45.68, 'humidity': 0.49, 'pressure': 1014.64, 'windSpeed': 10.81, 'windGust': 23.84, 'windBearing': 219, 'cloudCover': 0.4, 'uvIndex': 1, 'visibility': 10, 'ozone': 358.15}, {'time': 1560600000, 'summary': 'Partly Cloudy', 'icon': 'partly-cloudy-day', 'precipIntensity': 0, 'precipProbability': 0, 'temperature': 66.5, 'apparentTemperature': 66.5, 'dewPoint': 46.06, 'humidity': 0.48, 'pressure': 1015, 'windSpeed': 11.5, 'windGust': 21.43, 'windBearing': 273, 'cloudCover': 0.5, 'uvIndex': 2, 'visibility': 10, 'ozone': 356.28}, {'time': 1560603600, 'summary': 'Partly Cloudy', 'icon': 'partly-cloudy-day', 'precipIntensity': 0, 'precipProbability': 0, 'temperature': 68.5, 'apparentTemperature': 68.5, 'dewPoint': 45.99, 'humidity': 0.44, 'pressure': 1015.11, 'windSpeed': 11.42, 'windGust': 21.38, 'windBearing': 279, 'cloudCover': 0.56, 'uvIndex': 3, 'visibility': 10, 'ozone': 354.63}, {'time': 1560607200, 'summary': 'Mostly Cloudy', 'icon': 'partly-cloudy-day', 'precipIntensity': 0, 'precipProbability': 0, 'temperature': 70.17, 'apparentTemperature': 70.17, 'dewPoint': 45.79, 'humidity': 0.42, 'pressure': 1015.03, 'windSpeed': 11.72, 'windGust': 22.48, 'windBearing': 270, 'cloudCover': 0.6, 'uvIndex': 4, 'visibility': 10, 'ozone': 353.3}, {'time': 1560610800, 'summary': 'Mostly Cloudy', 'icon': 'partly-cloudy-day', 'precipIntensity': 0, 'precipProbability': 0, 'temperature': 71.61, 'apparentTemperature': 71.61, 'dewPoint': 45.9, 'humidity': 0.4, 'pressure': 1014.88, 'windSpeed': 12.45, 'windGust': 23.24, 'windBearing': 269, 'cloudCover': 0.64, 'uvIndex': 5, 'visibility': 10, 'ozone': 351.79}, {'time': 1560614400, 'summary': 'Mostly Cloudy', 'icon': 'partly-cloudy-day', 'precipIntensity': 0, 'precipProbability': 0, 'temperature': 72.43, 'apparentTemperature': 72.43, 'dewPoint': 46.65, 'humidity': 0.4, 'pressure': 1014.65, 'windSpeed': 12.56, 'windGust': 23.29, 'windBearing': 271, 'cloudCover': 0.69, 'uvIndex': 5, 'visibility': 10, 'ozone': 349.58}, {'time': 1560618000, 'summary': 'Mostly Cloudy', 'icon': 'partly-cloudy-day', 'precipIntensity': 0, 'precipProbability': 0, 'temperature': 76.08, 'apparentTemperature': 76.08, 'dewPoint': 47.7, 'humidity': 0.37, 'pressure': 1014.33, 'windSpeed': 12.55, 'windGust': 23, 'windBearing': 269, 'cloudCover': 0.73, 'uvIndex': 5, 'visibility': 10, 'ozone': 347.19}, {'time': 1560621600, 'summary': 'Mostly Cloudy', 'icon': 'partly-cloudy-day', 'precipIntensity': 0, 'precipProbability': 0, 'temperature': 77.72, 'apparentTemperature': 77.72, 'dewPoint': 48.45, 'humidity': 0.36, 'pressure': 1014.08, 'windSpeed': 12.33, 'windGust': 22.14, 'windBearing': 267, 'cloudCover': 0.79, 'uvIndex': 5, 'visibility': 10, 'ozone': 345.45}, {'time': 1560625200, 'summary': 'Mostly Cloudy', 'icon': 'partly-cloudy-day', 'precipIntensity': 0, 'precipProbability': 0, 'temperature': 78.72, 'apparentTemperature': 78.72, 'dewPoint': 48.49, 'humidity': 0.35, 'pressure': 1013.94, 'windSpeed': 11.22, 'windGust': 20.15, 'windBearing': 254, 'cloudCover': 0.86, 'uvIndex': 4, 'visibility': 10, 'ozone': 344.85}, {'time': 1560628800, 'summary': 'Overcast', 'icon': 'cloudy', 'precipIntensity': 0, 'precipProbability': 0, 'temperature': 79, 'apparentTemperature': 79, 'dewPoint': 48.19, 'humidity': 0.34, 'pressure': 1013.85, 'windSpeed': 9.7, 'windGust': 17.56, 'windBearing': 278, 'cloudCover': 0.94, 'uvIndex': 3, 'visibility': 10, 'ozone': 344.93}, {'time': 1560632400, 'summary': 'Overcast', 'icon': 'cloudy', 'precipIntensity': 0, 'precipProbability': 0, 'temperature': 78.64, 'apparentTemperature': 78.64, 'dewPoint': 48.02, 'humidity': 0.34, 'pressure': 1013.9, 'windSpeed': 9.74, 'windGust': 15.73, 'windBearing': 267, 'cloudCover': 0.99, 'uvIndex': 2, 'visibility': 10, 'ozone': 345.07}, {'time': 1560636000, 'summary': 'Overcast', 'icon': 'cloudy', 'precipIntensity': 0, 'precipProbability': 0, 'temperature': 76.32, 'apparentTemperature': 76.32, 'dewPoint': 48.23, 'humidity': 0.37, 'pressure': 1014.11, 'windSpeed': 8.94, 'windGust': 14.99, 'windBearing': 266, 'cloudCover': 0.99, 'uvIndex': 1, 'visibility': 10, 'ozone': 345.19}, {'time': 1560639600, 'summary': 'Overcast', 'icon': 'cloudy', 'precipIntensity': 0, 'precipProbability': 0, 'temperature': 75.79, 'apparentTemperature': 75.79, 'dewPoint': 48.66, 'humidity': 0.38, 'pressure': 1014.45, 'windSpeed': 7.07, 'windGust': 15, 'windBearing': 268, 'cloudCover': 0.97, 'uvIndex': 0, 'visibility': 10, 'ozone': 345.36}, {'time': 1560643200, 'summary': 'Overcast', 'icon': 'cloudy', 'precipIntensity': 0, 'precipProbability': 0, 'temperature': 74.93, 'apparentTemperature': 74.93, 'dewPoint': 49.23, 'humidity': 0.4, 'pressure': 1014.8, 'windSpeed': 6.72, 'windGust': 15.92, 'windBearing': 217, 'cloudCover': 0.96, 'uvIndex': 0, 'visibility': 10, 'ozone': 344.86}, {'time': 1560646800, 'summary': 'Overcast', 'icon': 'cloudy', 'precipIntensity': 0, 'precipProbability': 0, 'temperature': 73.92, 'apparentTemperature': 73.92, 'dewPoint': 49.76, 'humidity': 0.43, 'pressure': 1015.2, 'windSpeed': 8.69, 'windGust': 19.03, 'windBearing': 228, 'cloudCover': 0.97, 'uvIndex': 0, 'visibility': 10, 'ozone': 342.97}, {'time': 1560650400, 'summary': 'Overcast', 'icon': 'cloudy', 'precipIntensity': 0, 'precipProbability': 0, 'temperature': 72.88, 'apparentTemperature': 72.88, 'dewPoint': 50.33, 'humidity': 0.45, 'pressure': 1015.61, 'windSpeed': 9, 'windGust': 23.06, 'windBearing': 240, 'cloudCover': 0.98, 'uvIndex': 0, 'visibility': 10, 'ozone': 340.44}, {'time': 1560654000, 'summary': 'Overcast', 'icon': 'cloudy', 'precipIntensity': 0, 'precipProbability': 0, 'temperature': 71.8, 'apparentTemperature': 71.8, 'dewPoint': 50.92, 'humidity': 0.48, 'pressure': 1015.9, 'windSpeed': 8.66, 'windGust': 24.17, 'windBearing': 251, 'cloudCover': 0.99, 'uvIndex': 0, 'visibility': 10, 'ozone': 338.81}]}, 'daily': {'data': [{'time': 1560571200, 'summary': 'Mostly cloudy throughout the day.', 'icon': 'partly-cloudy-day', 'sunriseTime': 1560589692, 'sunsetTime': 1560644642, 'moonPhase': 0.45, 'precipIntensity': 0, 'precipIntensityMax': 0.0002, 'precipIntensityMaxTime': 1560571200, 'precipProbability': 0, 'temperatureHigh': 79, 'temperatureHighTime': 1560628800, 'temperatureLow': 63.39, 'temperatureLowTime': 1560675600, 'apparentTemperatureHigh': 79, 'apparentTemperatureHighTime': 1560628800, 'apparentTemperatureLow': 63.39, 'apparentTemperatureLowTime': 1560675600, 'dewPoint': 46.98, 'humidity': 0.44, 'pressure': 1014.04, 'windSpeed': 9.41, 'windGust': 30.09, 'windGustTime': 1560585600, 'windBearing': 265, 'cloudCover': 0.65, 'uvIndex': 5, 'uvIndexTime': 1560610800, 'visibility': 10, 'ozone': 355.44, 'temperatureMin': 61.85, 'temperatureMinTime': 1560585600, 'temperatureMax': 79, 'temperatureMaxTime': 1560628800, 'apparentTemperatureMin': 61.85, 'apparentTemperatureMinTime': 1560585600, 'apparentTemperatureMax': 79, 'apparentTemperatureMaxTime': 1560628800}]}, 'offset': -4}\n"
     ]
    }
   ],
   "source": [
    "print(data_next_week)"
   ]
  },
  {
   "cell_type": "code",
   "execution_count": 19,
   "metadata": {},
   "outputs": [
    {
     "data": {
      "text/plain": [
       "dict_keys(['latitude', 'longitude', 'timezone', 'hourly', 'daily', 'offset'])"
      ]
     },
     "execution_count": 19,
     "metadata": {},
     "output_type": "execute_result"
    }
   ],
   "source": [
    "data_next_week.keys()"
   ]
  },
  {
   "cell_type": "code",
   "execution_count": 20,
   "metadata": {},
   "outputs": [
    {
     "name": "stdout",
     "output_type": "stream",
     "text": [
      "[{'time': 1560571200, 'summary': 'Mostly cloudy throughout the day.', 'icon': 'partly-cloudy-day', 'sunriseTime': 1560589692, 'sunsetTime': 1560644642, 'moonPhase': 0.45, 'precipIntensity': 0, 'precipIntensityMax': 0.0002, 'precipIntensityMaxTime': 1560571200, 'precipProbability': 0, 'temperatureHigh': 79, 'temperatureHighTime': 1560628800, 'temperatureLow': 63.39, 'temperatureLowTime': 1560675600, 'apparentTemperatureHigh': 79, 'apparentTemperatureHighTime': 1560628800, 'apparentTemperatureLow': 63.39, 'apparentTemperatureLowTime': 1560675600, 'dewPoint': 46.98, 'humidity': 0.44, 'pressure': 1014.04, 'windSpeed': 9.41, 'windGust': 30.09, 'windGustTime': 1560585600, 'windBearing': 265, 'cloudCover': 0.65, 'uvIndex': 5, 'uvIndexTime': 1560610800, 'visibility': 10, 'ozone': 355.44, 'temperatureMin': 61.85, 'temperatureMinTime': 1560585600, 'temperatureMax': 79, 'temperatureMaxTime': 1560628800, 'apparentTemperatureMin': 61.85, 'apparentTemperatureMinTime': 1560585600, 'apparentTemperatureMax': 79, 'apparentTemperatureMaxTime': 1560628800}]\n"
     ]
    }
   ],
   "source": [
    "Next_Wk_dailyForecast = data_next_week['daily']['data']\n",
    "print(Next_Wk_dailyForecast)"
   ]
  },
  {
   "cell_type": "code",
   "execution_count": 21,
   "metadata": {},
   "outputs": [
    {
     "name": "stdout",
     "output_type": "stream",
     "text": [
      "The highest temp on next Sunday will be 79 F.\n"
     ]
    }
   ],
   "source": [
    "print(\"The highest temp on next Sunday will be\", Next_Wk_dailyForecast[0]['temperatureHigh'],\"F.\")"
   ]
  },
  {
   "cell_type": "markdown",
   "metadata": {},
   "source": [
    "## 7) What's the weather looking like for the next 24+ hours in Miami, Florida?\n",
    "\n",
    "I'd like to know the temperature for every hour, and if it's going to have cloud cover of more than 50% say \"{temperature} and cloudy\" instead of just the temperature. \n",
    "\n",
    "\n",
    "- *Tip: Be sure to remember how latitude and longitude are done with positive and negative numbers*\n",
    "- *Tip: How do you represent \"50%\" for cloud cover?*"
   ]
  },
  {
   "cell_type": "code",
   "execution_count": 22,
   "metadata": {},
   "outputs": [],
   "source": [
    "response = requests.get('https://api.darksky.net/forecast/4c2f56efa7af71166e7044038873f94c/25.761681,-80.191788?exclude=currently,flags')\n",
    "data_florida = response.json()"
   ]
  },
  {
   "cell_type": "code",
   "execution_count": 23,
   "metadata": {},
   "outputs": [
    {
     "data": {
      "text/plain": [
       "dict_keys(['latitude', 'longitude', 'timezone', 'minutely', 'hourly', 'daily', 'offset'])"
      ]
     },
     "execution_count": 23,
     "metadata": {},
     "output_type": "execute_result"
    }
   ],
   "source": [
    "data_florida.keys()"
   ]
  },
  {
   "cell_type": "code",
   "execution_count": 24,
   "metadata": {},
   "outputs": [
    {
     "name": "stdout",
     "output_type": "stream",
     "text": [
      "{'summary': 'Humid throughout the day and partly cloudy starting later tonight.', 'icon': 'partly-cloudy-day', 'data': [{'time': 1560222000, 'summary': 'Humid', 'icon': 'clear-night', 'precipIntensity': 0.0022, 'precipProbability': 0.29, 'precipType': 'rain', 'temperature': 80.42, 'apparentTemperature': 84.85, 'dewPoint': 73.01, 'humidity': 0.78, 'pressure': 1017.71, 'windSpeed': 1.56, 'windGust': 4.2, 'windBearing': 204, 'cloudCover': 0.07, 'uvIndex': 0, 'visibility': 10, 'ozone': 288.27}, {'time': 1560225600, 'summary': 'Humid', 'icon': 'clear-night', 'precipIntensity': 0, 'precipProbability': 0, 'temperature': 80.04, 'apparentTemperature': 84.22, 'dewPoint': 73.06, 'humidity': 0.79, 'pressure': 1017.69, 'windSpeed': 1.88, 'windGust': 4.07, 'windBearing': 168, 'cloudCover': 0.01, 'uvIndex': 0, 'visibility': 10, 'ozone': 288.66}, {'time': 1560229200, 'summary': 'Humid', 'icon': 'clear-night', 'precipIntensity': 0, 'precipProbability': 0, 'temperature': 80.61, 'apparentTemperature': 85.37, 'dewPoint': 73.43, 'humidity': 0.79, 'pressure': 1016.96, 'windSpeed': 3.93, 'windGust': 4.93, 'windBearing': 221, 'cloudCover': 0.12, 'uvIndex': 0, 'visibility': 10, 'ozone': 289.25}, {'time': 1560232800, 'summary': 'Humid', 'icon': 'clear-night', 'precipIntensity': 0.0024, 'precipProbability': 0.03, 'precipType': 'rain', 'temperature': 80.66, 'apparentTemperature': 85.56, 'dewPoint': 73.66, 'humidity': 0.79, 'pressure': 1016.15, 'windSpeed': 4.7, 'windGust': 5.79, 'windBearing': 231, 'cloudCover': 0.17, 'uvIndex': 0, 'visibility': 10, 'ozone': 289.96}, {'time': 1560236400, 'summary': 'Humid and Partly Cloudy', 'icon': 'partly-cloudy-night', 'precipIntensity': 0.0018, 'precipProbability': 0.03, 'precipType': 'rain', 'temperature': 80.26, 'apparentTemperature': 84.84, 'dewPoint': 73.64, 'humidity': 0.8, 'pressure': 1015.98, 'windSpeed': 4.14, 'windGust': 5.19, 'windBearing': 221, 'cloudCover': 0.26, 'uvIndex': 0, 'visibility': 10, 'ozone': 290.73}, {'time': 1560240000, 'summary': 'Humid and Partly Cloudy', 'icon': 'partly-cloudy-night', 'precipIntensity': 0.0013, 'precipProbability': 0.03, 'precipType': 'rain', 'temperature': 79.51, 'apparentTemperature': 83.41, 'dewPoint': 73.46, 'humidity': 0.82, 'pressure': 1015.91, 'windSpeed': 4.37, 'windGust': 5.27, 'windBearing': 212, 'cloudCover': 0.36, 'uvIndex': 0, 'visibility': 10, 'ozone': 291.35}, {'time': 1560243600, 'summary': 'Humid and Partly Cloudy', 'icon': 'partly-cloudy-night', 'precipIntensity': 0.0008, 'precipProbability': 0.03, 'precipType': 'rain', 'temperature': 79.1, 'apparentTemperature': 82.62, 'dewPoint': 73.38, 'humidity': 0.83, 'pressure': 1015.88, 'windSpeed': 4.26, 'windGust': 5.82, 'windBearing': 214, 'cloudCover': 0.47, 'uvIndex': 0, 'visibility': 10, 'ozone': 292.04}, {'time': 1560247200, 'summary': 'Humid and Partly Cloudy', 'icon': 'partly-cloudy-night', 'precipIntensity': 0.0003, 'precipProbability': 0.02, 'precipType': 'rain', 'temperature': 79.31, 'apparentTemperature': 83.01, 'dewPoint': 73.37, 'humidity': 0.82, 'pressure': 1016.08, 'windSpeed': 3.96, 'windGust': 5.73, 'windBearing': 215, 'cloudCover': 0.51, 'uvIndex': 0, 'visibility': 10, 'ozone': 292.71}, {'time': 1560250800, 'summary': 'Humid and Partly Cloudy', 'icon': 'partly-cloudy-day', 'precipIntensity': 0.0002, 'precipProbability': 0.02, 'precipType': 'rain', 'temperature': 80, 'apparentTemperature': 84.27, 'dewPoint': 73.38, 'humidity': 0.8, 'pressure': 1016.53, 'windSpeed': 3.46, 'windGust': 4.85, 'windBearing': 220, 'cloudCover': 0.54, 'uvIndex': 0, 'visibility': 10, 'ozone': 293.4}, {'time': 1560254400, 'summary': 'Humid and Partly Cloudy', 'icon': 'partly-cloudy-day', 'precipIntensity': 0.0014, 'precipProbability': 0.03, 'precipType': 'rain', 'temperature': 81.73, 'apparentTemperature': 87.33, 'dewPoint': 73.6, 'humidity': 0.76, 'pressure': 1016.95, 'windSpeed': 3.47, 'windGust': 4.5, 'windBearing': 222, 'cloudCover': 0.56, 'uvIndex': 1, 'visibility': 10, 'ozone': 293.64}, {'time': 1560258000, 'summary': 'Humid and Partly Cloudy', 'icon': 'partly-cloudy-day', 'precipIntensity': 0.0016, 'precipProbability': 0.03, 'precipType': 'rain', 'temperature': 84.5, 'apparentTemperature': 91.72, 'dewPoint': 73.79, 'humidity': 0.7, 'pressure': 1017.18, 'windSpeed': 4.14, 'windGust': 5.13, 'windBearing': 202, 'cloudCover': 0.5, 'uvIndex': 2, 'visibility': 10, 'ozone': 293.43}, {'time': 1560261600, 'summary': 'Humid and Partly Cloudy', 'icon': 'partly-cloudy-day', 'precipIntensity': 0.0012, 'precipProbability': 0.02, 'precipType': 'rain', 'temperature': 86.68, 'apparentTemperature': 94.94, 'dewPoint': 73.95, 'humidity': 0.66, 'pressure': 1017.32, 'windSpeed': 5.07, 'windGust': 6.09, 'windBearing': 163, 'cloudCover': 0.41, 'uvIndex': 4, 'visibility': 10, 'ozone': 292.94}, {'time': 1560265200, 'summary': 'Humid and Partly Cloudy', 'icon': 'partly-cloudy-day', 'precipIntensity': 0.0003, 'precipProbability': 0.02, 'precipType': 'rain', 'temperature': 88.11, 'apparentTemperature': 97, 'dewPoint': 74.07, 'humidity': 0.63, 'pressure': 1017.34, 'windSpeed': 6.19, 'windGust': 7.47, 'windBearing': 158, 'cloudCover': 0.37, 'uvIndex': 7, 'visibility': 10, 'ozone': 292.52}, {'time': 1560268800, 'summary': 'Humid and Partly Cloudy', 'icon': 'partly-cloudy-day', 'precipIntensity': 0, 'precipProbability': 0, 'temperature': 89.12, 'apparentTemperature': 98.25, 'dewPoint': 73.97, 'humidity': 0.61, 'pressure': 1017.13, 'windSpeed': 7.76, 'windGust': 8.92, 'windBearing': 157, 'cloudCover': 0.47, 'uvIndex': 8, 'visibility': 10, 'ozone': 292.32}, {'time': 1560272400, 'summary': 'Humid and Mostly Cloudy', 'icon': 'partly-cloudy-day', 'precipIntensity': 0, 'precipProbability': 0, 'temperature': 89.97, 'apparentTemperature': 98.38, 'dewPoint': 73.06, 'humidity': 0.58, 'pressure': 1016.52, 'windSpeed': 8.71, 'windGust': 8.72, 'windBearing': 152, 'cloudCover': 0.7, 'uvIndex': 7, 'visibility': 10, 'ozone': 292.25}, {'time': 1560276000, 'summary': 'Humid and Mostly Cloudy', 'icon': 'partly-cloudy-day', 'precipIntensity': 0, 'precipProbability': 0, 'temperature': 90.26, 'apparentTemperature': 98.87, 'dewPoint': 73.17, 'humidity': 0.57, 'pressure': 1016.23, 'windSpeed': 10.04, 'windGust': 10.05, 'windBearing': 151, 'cloudCover': 0.77, 'uvIndex': 6, 'visibility': 10, 'ozone': 292.38}, {'time': 1560279600, 'summary': 'Humid and Mostly Cloudy', 'icon': 'partly-cloudy-day', 'precipIntensity': 0.002, 'precipProbability': 0.04, 'precipType': 'rain', 'temperature': 90.49, 'apparentTemperature': 99.33, 'dewPoint': 73.32, 'humidity': 0.57, 'pressure': 1015.83, 'windSpeed': 10.88, 'windGust': 10.88, 'windBearing': 153, 'cloudCover': 0.72, 'uvIndex': 6, 'visibility': 10, 'ozone': 292.67}, {'time': 1560283200, 'summary': 'Humid and Mostly Cloudy', 'icon': 'partly-cloudy-day', 'precipIntensity': 0.011, 'precipProbability': 0.07, 'precipType': 'rain', 'temperature': 89.94, 'apparentTemperature': 98.83, 'dewPoint': 73.51, 'humidity': 0.59, 'pressure': 1015.37, 'windSpeed': 11.4, 'windGust': 11.4, 'windBearing': 155, 'cloudCover': 0.64, 'uvIndex': 5, 'visibility': 10, 'ozone': 293.11}, {'time': 1560286800, 'summary': 'Humid and Partly Cloudy', 'icon': 'partly-cloudy-day', 'precipIntensity': 0.0213, 'precipProbability': 0.09, 'precipType': 'rain', 'temperature': 89.16, 'apparentTemperature': 97.99, 'dewPoint': 73.69, 'humidity': 0.61, 'pressure': 1015.04, 'windSpeed': 11.43, 'windGust': 11.66, 'windBearing': 159, 'cloudCover': 0.58, 'uvIndex': 3, 'visibility': 10, 'ozone': 293.86}, {'time': 1560290400, 'summary': 'Humid and Partly Cloudy', 'icon': 'partly-cloudy-day', 'precipIntensity': 0.024, 'precipProbability': 0.1, 'precipType': 'rain', 'temperature': 87.89, 'apparentTemperature': 96.42, 'dewPoint': 73.8, 'humidity': 0.63, 'pressure': 1014.88, 'windSpeed': 10.83, 'windGust': 11.55, 'windBearing': 162, 'cloudCover': 0.59, 'uvIndex': 2, 'visibility': 10, 'ozone': 295.32}, {'time': 1560294000, 'summary': 'Humid and Mostly Cloudy', 'icon': 'partly-cloudy-day', 'precipIntensity': 0.0228, 'precipProbability': 0.12, 'precipType': 'rain', 'temperature': 86.59, 'apparentTemperature': 94.74, 'dewPoint': 73.88, 'humidity': 0.66, 'pressure': 1014.87, 'windSpeed': 9.79, 'windGust': 10.99, 'windBearing': 166, 'cloudCover': 0.63, 'uvIndex': 0, 'visibility': 10, 'ozone': 297.24}, {'time': 1560297600, 'summary': 'Humid and Mostly Cloudy', 'icon': 'partly-cloudy-day', 'precipIntensity': 0.0194, 'precipProbability': 0.12, 'precipType': 'rain', 'temperature': 85.42, 'apparentTemperature': 93.16, 'dewPoint': 73.94, 'humidity': 0.69, 'pressure': 1015.02, 'windSpeed': 8.88, 'windGust': 10.4, 'windBearing': 170, 'cloudCover': 0.62, 'uvIndex': 0, 'visibility': 10, 'ozone': 298.68}, {'time': 1560301200, 'summary': 'Humid and Partly Cloudy', 'icon': 'partly-cloudy-night', 'precipIntensity': 0.0117, 'precipProbability': 0.1, 'precipType': 'rain', 'temperature': 84.6, 'apparentTemperature': 92.08, 'dewPoint': 74.05, 'humidity': 0.71, 'pressure': 1015.46, 'windSpeed': 8.17, 'windGust': 9.88, 'windBearing': 175, 'cloudCover': 0.51, 'uvIndex': 0, 'visibility': 10, 'ozone': 299.33}, {'time': 1560304800, 'summary': 'Humid and Partly Cloudy', 'icon': 'partly-cloudy-night', 'precipIntensity': 0.0045, 'precipProbability': 0.09, 'precipType': 'rain', 'temperature': 83.96, 'apparentTemperature': 91.21, 'dewPoint': 74.14, 'humidity': 0.72, 'pressure': 1016.05, 'windSpeed': 7.51, 'windGust': 9.21, 'windBearing': 179, 'cloudCover': 0.36, 'uvIndex': 0, 'visibility': 10, 'ozone': 299.5}, {'time': 1560308400, 'summary': 'Humid and Partly Cloudy', 'icon': 'partly-cloudy-night', 'precipIntensity': 0.0018, 'precipProbability': 0.07, 'precipType': 'rain', 'temperature': 83.2, 'apparentTemperature': 90.06, 'dewPoint': 74.18, 'humidity': 0.74, 'pressure': 1016.42, 'windSpeed': 6.87, 'windGust': 8.42, 'windBearing': 184, 'cloudCover': 0.26, 'uvIndex': 0, 'visibility': 10, 'ozone': 299.82}, {'time': 1560312000, 'summary': 'Humid and Partly Cloudy', 'icon': 'partly-cloudy-night', 'precipIntensity': 0.0011, 'precipProbability': 0.05, 'precipType': 'rain', 'temperature': 82.44, 'apparentTemperature': 88.78, 'dewPoint': 74.09, 'humidity': 0.76, 'pressure': 1016.38, 'windSpeed': 6.36, 'windGust': 7.56, 'windBearing': 191, 'cloudCover': 0.28, 'uvIndex': 0, 'visibility': 10, 'ozone': 300.56}, {'time': 1560315600, 'summary': 'Humid and Partly Cloudy', 'icon': 'partly-cloudy-night', 'precipIntensity': 0.0012, 'precipProbability': 0.04, 'precipType': 'rain', 'temperature': 81.97, 'apparentTemperature': 87.94, 'dewPoint': 73.97, 'humidity': 0.77, 'pressure': 1016.11, 'windSpeed': 5.95, 'windGust': 6.69, 'windBearing': 197, 'cloudCover': 0.33, 'uvIndex': 0, 'visibility': 10, 'ozone': 301.47}, {'time': 1560319200, 'summary': 'Humid and Partly Cloudy', 'icon': 'partly-cloudy-night', 'precipIntensity': 0.0016, 'precipProbability': 0.01, 'precipType': 'rain', 'temperature': 81.63, 'apparentTemperature': 87.27, 'dewPoint': 73.79, 'humidity': 0.77, 'pressure': 1015.86, 'windSpeed': 5.6, 'windGust': 5.88, 'windBearing': 201, 'cloudCover': 0.38, 'uvIndex': 0, 'visibility': 10, 'ozone': 302.2}, {'time': 1560322800, 'summary': 'Humid and Partly Cloudy', 'icon': 'partly-cloudy-night', 'precipIntensity': 0.0014, 'precipProbability': 0.01, 'precipType': 'rain', 'temperature': 81.45, 'apparentTemperature': 86.86, 'dewPoint': 73.6, 'humidity': 0.77, 'pressure': 1015.63, 'windSpeed': 5.32, 'windGust': 5.43, 'windBearing': 203, 'cloudCover': 0.43, 'uvIndex': 0, 'visibility': 10, 'ozone': 302.79}, {'time': 1560326400, 'summary': 'Humid and Partly Cloudy', 'icon': 'partly-cloudy-night', 'precipIntensity': 0.0008, 'precipProbability': 0.01, 'precipType': 'rain', 'temperature': 81.11, 'apparentTemperature': 86.2, 'dewPoint': 73.38, 'humidity': 0.77, 'pressure': 1015.4, 'windSpeed': 5.11, 'windGust': 5.21, 'windBearing': 204, 'cloudCover': 0.5, 'uvIndex': 0, 'visibility': 10, 'ozone': 303.36}, {'time': 1560330000, 'summary': 'Humid and Partly Cloudy', 'icon': 'partly-cloudy-night', 'precipIntensity': 0.0005, 'precipProbability': 0.01, 'precipType': 'rain', 'temperature': 81.1, 'apparentTemperature': 86.1, 'dewPoint': 73.23, 'humidity': 0.77, 'pressure': 1015.35, 'windSpeed': 4.95, 'windGust': 5.03, 'windBearing': 203, 'cloudCover': 0.57, 'uvIndex': 0, 'visibility': 10, 'ozone': 303.86}, {'time': 1560333600, 'summary': 'Humid and Mostly Cloudy', 'icon': 'partly-cloudy-night', 'precipIntensity': 0.0003, 'precipProbability': 0.02, 'precipType': 'rain', 'temperature': 81.43, 'apparentTemperature': 86.58, 'dewPoint': 73.14, 'humidity': 0.76, 'pressure': 1015.59, 'windSpeed': 4.68, 'windGust': 4.77, 'windBearing': 199, 'cloudCover': 0.69, 'uvIndex': 0, 'visibility': 10, 'ozone': 304.13}, {'time': 1560337200, 'summary': 'Humid and Mostly Cloudy', 'icon': 'partly-cloudy-day', 'precipIntensity': 0.0002, 'precipProbability': 0.03, 'precipType': 'rain', 'temperature': 82.02, 'apparentTemperature': 87.51, 'dewPoint': 73.12, 'humidity': 0.75, 'pressure': 1015.98, 'windSpeed': 4.48, 'windGust': 4.55, 'windBearing': 193, 'cloudCover': 0.81, 'uvIndex': 0, 'visibility': 10, 'ozone': 304.28}, {'time': 1560340800, 'summary': 'Humid and Mostly Cloudy', 'icon': 'partly-cloudy-day', 'precipIntensity': 0.0002, 'precipProbability': 0.03, 'precipType': 'rain', 'temperature': 83.17, 'apparentTemperature': 89.29, 'dewPoint': 73.16, 'humidity': 0.72, 'pressure': 1016.37, 'windSpeed': 4.6, 'windGust': 4.65, 'windBearing': 187, 'cloudCover': 0.87, 'uvIndex': 1, 'visibility': 10, 'ozone': 304.53}, {'time': 1560344400, 'summary': 'Humid and Mostly Cloudy', 'icon': 'partly-cloudy-day', 'precipIntensity': 0, 'precipProbability': 0, 'temperature': 85.05, 'apparentTemperature': 92.06, 'dewPoint': 73.27, 'humidity': 0.68, 'pressure': 1016.79, 'windSpeed': 5.19, 'windGust': 5.22, 'windBearing': 180, 'cloudCover': 0.83, 'uvIndex': 2, 'visibility': 10, 'ozone': 304.83}, {'time': 1560348000, 'summary': 'Humid and Mostly Cloudy', 'icon': 'partly-cloudy-day', 'precipIntensity': 0, 'precipProbability': 0, 'temperature': 86.83, 'apparentTemperature': 94.58, 'dewPoint': 73.36, 'humidity': 0.64, 'pressure': 1017.16, 'windSpeed': 5.94, 'windGust': 6.05, 'windBearing': 174, 'cloudCover': 0.73, 'uvIndex': 4, 'visibility': 10, 'ozone': 305.11}, {'time': 1560351600, 'summary': 'Humid and Mostly Cloudy', 'icon': 'partly-cloudy-day', 'precipIntensity': 0, 'precipProbability': 0, 'temperature': 88.3, 'apparentTemperature': 96.57, 'dewPoint': 73.4, 'humidity': 0.62, 'pressure': 1017.36, 'windSpeed': 6.72, 'windGust': 7.04, 'windBearing': 169, 'cloudCover': 0.64, 'uvIndex': 5, 'visibility': 10, 'ozone': 305.33}, {'time': 1560355200, 'summary': 'Humid and Partly Cloudy', 'icon': 'partly-cloudy-day', 'precipIntensity': 0, 'precipProbability': 0, 'temperature': 89.34, 'apparentTemperature': 97.9, 'dewPoint': 73.38, 'humidity': 0.6, 'pressure': 1017.33, 'windSpeed': 7.67, 'windGust': 7.71, 'windBearing': 164, 'cloudCover': 0.47, 'uvIndex': 7, 'visibility': 10, 'ozone': 305.41}, {'time': 1560358800, 'summary': 'Humid and Partly Cloudy', 'icon': 'partly-cloudy-day', 'precipIntensity': 0.0006, 'precipProbability': 0.03, 'precipType': 'rain', 'temperature': 90.55, 'apparentTemperature': 99.44, 'dewPoint': 73.35, 'humidity': 0.57, 'pressure': 1017.13, 'windSpeed': 8.78, 'windGust': 8.8, 'windBearing': 159, 'cloudCover': 0.28, 'uvIndex': 9, 'visibility': 10, 'ozone': 305.6}, {'time': 1560362400, 'summary': 'Humid', 'icon': 'clear-day', 'precipIntensity': 0.0016, 'precipProbability': 0.04, 'precipType': 'rain', 'temperature': 91.2, 'apparentTemperature': 100.38, 'dewPoint': 73.44, 'humidity': 0.56, 'pressure': 1016.82, 'windSpeed': 9.75, 'windGust': 9.76, 'windBearing': 158, 'cloudCover': 0.18, 'uvIndex': 10, 'visibility': 10, 'ozone': 305.54}, {'time': 1560366000, 'summary': 'Humid', 'icon': 'clear-day', 'precipIntensity': 0.0037, 'precipProbability': 0.08, 'precipType': 'rain', 'temperature': 91.7, 'apparentTemperature': 101.22, 'dewPoint': 73.62, 'humidity': 0.56, 'pressure': 1016.3, 'windSpeed': 10.55, 'windGust': 10.56, 'windBearing': 159, 'cloudCover': 0.24, 'uvIndex': 8, 'visibility': 10, 'ozone': 305.14}, {'time': 1560369600, 'summary': 'Humid and Partly Cloudy', 'icon': 'partly-cloudy-day', 'precipIntensity': 0.0079, 'precipProbability': 0.11, 'precipType': 'rain', 'temperature': 91.1, 'apparentTemperature': 100.72, 'dewPoint': 73.86, 'humidity': 0.57, 'pressure': 1015.67, 'windSpeed': 11.22, 'windGust': 11.35, 'windBearing': 163, 'cloudCover': 0.39, 'uvIndex': 6, 'visibility': 10, 'ozone': 304.6}, {'time': 1560373200, 'summary': 'Humid and Partly Cloudy', 'icon': 'partly-cloudy-day', 'precipIntensity': 0.0145, 'precipProbability': 0.13, 'precipType': 'rain', 'temperature': 89.91, 'apparentTemperature': 99.42, 'dewPoint': 74.09, 'humidity': 0.6, 'pressure': 1015.3, 'windSpeed': 11.41, 'windGust': 12.52, 'windBearing': 168, 'cloudCover': 0.5, 'uvIndex': 3, 'visibility': 10, 'ozone': 303.9}, {'time': 1560376800, 'summary': 'Possible Light Rain', 'icon': 'rain', 'precipIntensity': 0.0353, 'precipProbability': 0.17, 'precipType': 'rain', 'temperature': 88.17, 'apparentTemperature': 97.36, 'dewPoint': 74.32, 'humidity': 0.64, 'pressure': 1015.36, 'windSpeed': 10.83, 'windGust': 12.9, 'windBearing': 171, 'cloudCover': 0.53, 'uvIndex': 2, 'visibility': 10, 'ozone': 303.1}, {'time': 1560380400, 'summary': 'Rain', 'icon': 'rain', 'precipIntensity': 0.0863, 'precipProbability': 0.24, 'precipType': 'rain', 'temperature': 86.34, 'apparentTemperature': 94.99, 'dewPoint': 74.48, 'humidity': 0.68, 'pressure': 1015.67, 'windSpeed': 9.85, 'windGust': 12.81, 'windBearing': 176, 'cloudCover': 0.52, 'uvIndex': 0, 'visibility': 10, 'ozone': 302.05}, {'time': 1560384000, 'summary': 'Rain', 'icon': 'rain', 'precipIntensity': 0.1262, 'precipProbability': 0.27, 'precipType': 'rain', 'temperature': 84.69, 'apparentTemperature': 92.71, 'dewPoint': 74.63, 'humidity': 0.72, 'pressure': 1016.09, 'windSpeed': 9.03, 'windGust': 12.43, 'windBearing': 181, 'cloudCover': 0.51, 'uvIndex': 0, 'visibility': 10, 'ozone': 300.65}, {'time': 1560387600, 'summary': 'Rain', 'icon': 'rain', 'precipIntensity': 0.1015, 'precipProbability': 0.28, 'precipType': 'rain', 'temperature': 83.89, 'apparentTemperature': 91.55, 'dewPoint': 74.69, 'humidity': 0.74, 'pressure': 1016.59, 'windSpeed': 8.71, 'windGust': 11.72, 'windBearing': 184, 'cloudCover': 0.51, 'uvIndex': 0, 'visibility': 10, 'ozone': 298.49}, {'time': 1560391200, 'summary': 'Possible Light Rain', 'icon': 'rain', 'precipIntensity': 0.0523, 'precipProbability': 0.24, 'precipType': 'rain', 'temperature': 83.41, 'apparentTemperature': 90.83, 'dewPoint': 74.73, 'humidity': 0.75, 'pressure': 1017.2, 'windSpeed': 8.52, 'windGust': 10.67, 'windBearing': 188, 'cloudCover': 0.53, 'uvIndex': 0, 'visibility': 10, 'ozone': 295.99}, {'time': 1560394800, 'summary': 'Humid and Partly Cloudy', 'icon': 'partly-cloudy-night', 'precipIntensity': 0.0223, 'precipProbability': 0.17, 'precipType': 'rain', 'temperature': 82.74, 'apparentTemperature': 89.72, 'dewPoint': 74.72, 'humidity': 0.77, 'pressure': 1017.59, 'windSpeed': 8.28, 'windGust': 9.63, 'windBearing': 193, 'cloudCover': 0.53, 'uvIndex': 0, 'visibility': 10, 'ozone': 293.94}]}\n"
     ]
    }
   ],
   "source": [
    "hourly_florida = data_florida['hourly']\n",
    "print(hourly_florida)"
   ]
  },
  {
   "cell_type": "code",
   "execution_count": 25,
   "metadata": {},
   "outputs": [
    {
     "data": {
      "text/plain": [
       "dict_keys(['summary', 'icon', 'data'])"
      ]
     },
     "execution_count": 25,
     "metadata": {},
     "output_type": "execute_result"
    }
   ],
   "source": [
    "hourly_florida.keys()"
   ]
  },
  {
   "cell_type": "code",
   "execution_count": 26,
   "metadata": {},
   "outputs": [
    {
     "name": "stdout",
     "output_type": "stream",
     "text": [
      "[{'time': 1560222000, 'summary': 'Humid', 'icon': 'clear-night', 'precipIntensity': 0.0022, 'precipProbability': 0.29, 'precipType': 'rain', 'temperature': 80.42, 'apparentTemperature': 84.85, 'dewPoint': 73.01, 'humidity': 0.78, 'pressure': 1017.71, 'windSpeed': 1.56, 'windGust': 4.2, 'windBearing': 204, 'cloudCover': 0.07, 'uvIndex': 0, 'visibility': 10, 'ozone': 288.27}, {'time': 1560225600, 'summary': 'Humid', 'icon': 'clear-night', 'precipIntensity': 0, 'precipProbability': 0, 'temperature': 80.04, 'apparentTemperature': 84.22, 'dewPoint': 73.06, 'humidity': 0.79, 'pressure': 1017.69, 'windSpeed': 1.88, 'windGust': 4.07, 'windBearing': 168, 'cloudCover': 0.01, 'uvIndex': 0, 'visibility': 10, 'ozone': 288.66}, {'time': 1560229200, 'summary': 'Humid', 'icon': 'clear-night', 'precipIntensity': 0, 'precipProbability': 0, 'temperature': 80.61, 'apparentTemperature': 85.37, 'dewPoint': 73.43, 'humidity': 0.79, 'pressure': 1016.96, 'windSpeed': 3.93, 'windGust': 4.93, 'windBearing': 221, 'cloudCover': 0.12, 'uvIndex': 0, 'visibility': 10, 'ozone': 289.25}, {'time': 1560232800, 'summary': 'Humid', 'icon': 'clear-night', 'precipIntensity': 0.0024, 'precipProbability': 0.03, 'precipType': 'rain', 'temperature': 80.66, 'apparentTemperature': 85.56, 'dewPoint': 73.66, 'humidity': 0.79, 'pressure': 1016.15, 'windSpeed': 4.7, 'windGust': 5.79, 'windBearing': 231, 'cloudCover': 0.17, 'uvIndex': 0, 'visibility': 10, 'ozone': 289.96}, {'time': 1560236400, 'summary': 'Humid and Partly Cloudy', 'icon': 'partly-cloudy-night', 'precipIntensity': 0.0018, 'precipProbability': 0.03, 'precipType': 'rain', 'temperature': 80.26, 'apparentTemperature': 84.84, 'dewPoint': 73.64, 'humidity': 0.8, 'pressure': 1015.98, 'windSpeed': 4.14, 'windGust': 5.19, 'windBearing': 221, 'cloudCover': 0.26, 'uvIndex': 0, 'visibility': 10, 'ozone': 290.73}, {'time': 1560240000, 'summary': 'Humid and Partly Cloudy', 'icon': 'partly-cloudy-night', 'precipIntensity': 0.0013, 'precipProbability': 0.03, 'precipType': 'rain', 'temperature': 79.51, 'apparentTemperature': 83.41, 'dewPoint': 73.46, 'humidity': 0.82, 'pressure': 1015.91, 'windSpeed': 4.37, 'windGust': 5.27, 'windBearing': 212, 'cloudCover': 0.36, 'uvIndex': 0, 'visibility': 10, 'ozone': 291.35}, {'time': 1560243600, 'summary': 'Humid and Partly Cloudy', 'icon': 'partly-cloudy-night', 'precipIntensity': 0.0008, 'precipProbability': 0.03, 'precipType': 'rain', 'temperature': 79.1, 'apparentTemperature': 82.62, 'dewPoint': 73.38, 'humidity': 0.83, 'pressure': 1015.88, 'windSpeed': 4.26, 'windGust': 5.82, 'windBearing': 214, 'cloudCover': 0.47, 'uvIndex': 0, 'visibility': 10, 'ozone': 292.04}, {'time': 1560247200, 'summary': 'Humid and Partly Cloudy', 'icon': 'partly-cloudy-night', 'precipIntensity': 0.0003, 'precipProbability': 0.02, 'precipType': 'rain', 'temperature': 79.31, 'apparentTemperature': 83.01, 'dewPoint': 73.37, 'humidity': 0.82, 'pressure': 1016.08, 'windSpeed': 3.96, 'windGust': 5.73, 'windBearing': 215, 'cloudCover': 0.51, 'uvIndex': 0, 'visibility': 10, 'ozone': 292.71}, {'time': 1560250800, 'summary': 'Humid and Partly Cloudy', 'icon': 'partly-cloudy-day', 'precipIntensity': 0.0002, 'precipProbability': 0.02, 'precipType': 'rain', 'temperature': 80, 'apparentTemperature': 84.27, 'dewPoint': 73.38, 'humidity': 0.8, 'pressure': 1016.53, 'windSpeed': 3.46, 'windGust': 4.85, 'windBearing': 220, 'cloudCover': 0.54, 'uvIndex': 0, 'visibility': 10, 'ozone': 293.4}, {'time': 1560254400, 'summary': 'Humid and Partly Cloudy', 'icon': 'partly-cloudy-day', 'precipIntensity': 0.0014, 'precipProbability': 0.03, 'precipType': 'rain', 'temperature': 81.73, 'apparentTemperature': 87.33, 'dewPoint': 73.6, 'humidity': 0.76, 'pressure': 1016.95, 'windSpeed': 3.47, 'windGust': 4.5, 'windBearing': 222, 'cloudCover': 0.56, 'uvIndex': 1, 'visibility': 10, 'ozone': 293.64}, {'time': 1560258000, 'summary': 'Humid and Partly Cloudy', 'icon': 'partly-cloudy-day', 'precipIntensity': 0.0016, 'precipProbability': 0.03, 'precipType': 'rain', 'temperature': 84.5, 'apparentTemperature': 91.72, 'dewPoint': 73.79, 'humidity': 0.7, 'pressure': 1017.18, 'windSpeed': 4.14, 'windGust': 5.13, 'windBearing': 202, 'cloudCover': 0.5, 'uvIndex': 2, 'visibility': 10, 'ozone': 293.43}, {'time': 1560261600, 'summary': 'Humid and Partly Cloudy', 'icon': 'partly-cloudy-day', 'precipIntensity': 0.0012, 'precipProbability': 0.02, 'precipType': 'rain', 'temperature': 86.68, 'apparentTemperature': 94.94, 'dewPoint': 73.95, 'humidity': 0.66, 'pressure': 1017.32, 'windSpeed': 5.07, 'windGust': 6.09, 'windBearing': 163, 'cloudCover': 0.41, 'uvIndex': 4, 'visibility': 10, 'ozone': 292.94}, {'time': 1560265200, 'summary': 'Humid and Partly Cloudy', 'icon': 'partly-cloudy-day', 'precipIntensity': 0.0003, 'precipProbability': 0.02, 'precipType': 'rain', 'temperature': 88.11, 'apparentTemperature': 97, 'dewPoint': 74.07, 'humidity': 0.63, 'pressure': 1017.34, 'windSpeed': 6.19, 'windGust': 7.47, 'windBearing': 158, 'cloudCover': 0.37, 'uvIndex': 7, 'visibility': 10, 'ozone': 292.52}, {'time': 1560268800, 'summary': 'Humid and Partly Cloudy', 'icon': 'partly-cloudy-day', 'precipIntensity': 0, 'precipProbability': 0, 'temperature': 89.12, 'apparentTemperature': 98.25, 'dewPoint': 73.97, 'humidity': 0.61, 'pressure': 1017.13, 'windSpeed': 7.76, 'windGust': 8.92, 'windBearing': 157, 'cloudCover': 0.47, 'uvIndex': 8, 'visibility': 10, 'ozone': 292.32}, {'time': 1560272400, 'summary': 'Humid and Mostly Cloudy', 'icon': 'partly-cloudy-day', 'precipIntensity': 0, 'precipProbability': 0, 'temperature': 89.97, 'apparentTemperature': 98.38, 'dewPoint': 73.06, 'humidity': 0.58, 'pressure': 1016.52, 'windSpeed': 8.71, 'windGust': 8.72, 'windBearing': 152, 'cloudCover': 0.7, 'uvIndex': 7, 'visibility': 10, 'ozone': 292.25}, {'time': 1560276000, 'summary': 'Humid and Mostly Cloudy', 'icon': 'partly-cloudy-day', 'precipIntensity': 0, 'precipProbability': 0, 'temperature': 90.26, 'apparentTemperature': 98.87, 'dewPoint': 73.17, 'humidity': 0.57, 'pressure': 1016.23, 'windSpeed': 10.04, 'windGust': 10.05, 'windBearing': 151, 'cloudCover': 0.77, 'uvIndex': 6, 'visibility': 10, 'ozone': 292.38}, {'time': 1560279600, 'summary': 'Humid and Mostly Cloudy', 'icon': 'partly-cloudy-day', 'precipIntensity': 0.002, 'precipProbability': 0.04, 'precipType': 'rain', 'temperature': 90.49, 'apparentTemperature': 99.33, 'dewPoint': 73.32, 'humidity': 0.57, 'pressure': 1015.83, 'windSpeed': 10.88, 'windGust': 10.88, 'windBearing': 153, 'cloudCover': 0.72, 'uvIndex': 6, 'visibility': 10, 'ozone': 292.67}, {'time': 1560283200, 'summary': 'Humid and Mostly Cloudy', 'icon': 'partly-cloudy-day', 'precipIntensity': 0.011, 'precipProbability': 0.07, 'precipType': 'rain', 'temperature': 89.94, 'apparentTemperature': 98.83, 'dewPoint': 73.51, 'humidity': 0.59, 'pressure': 1015.37, 'windSpeed': 11.4, 'windGust': 11.4, 'windBearing': 155, 'cloudCover': 0.64, 'uvIndex': 5, 'visibility': 10, 'ozone': 293.11}, {'time': 1560286800, 'summary': 'Humid and Partly Cloudy', 'icon': 'partly-cloudy-day', 'precipIntensity': 0.0213, 'precipProbability': 0.09, 'precipType': 'rain', 'temperature': 89.16, 'apparentTemperature': 97.99, 'dewPoint': 73.69, 'humidity': 0.61, 'pressure': 1015.04, 'windSpeed': 11.43, 'windGust': 11.66, 'windBearing': 159, 'cloudCover': 0.58, 'uvIndex': 3, 'visibility': 10, 'ozone': 293.86}, {'time': 1560290400, 'summary': 'Humid and Partly Cloudy', 'icon': 'partly-cloudy-day', 'precipIntensity': 0.024, 'precipProbability': 0.1, 'precipType': 'rain', 'temperature': 87.89, 'apparentTemperature': 96.42, 'dewPoint': 73.8, 'humidity': 0.63, 'pressure': 1014.88, 'windSpeed': 10.83, 'windGust': 11.55, 'windBearing': 162, 'cloudCover': 0.59, 'uvIndex': 2, 'visibility': 10, 'ozone': 295.32}, {'time': 1560294000, 'summary': 'Humid and Mostly Cloudy', 'icon': 'partly-cloudy-day', 'precipIntensity': 0.0228, 'precipProbability': 0.12, 'precipType': 'rain', 'temperature': 86.59, 'apparentTemperature': 94.74, 'dewPoint': 73.88, 'humidity': 0.66, 'pressure': 1014.87, 'windSpeed': 9.79, 'windGust': 10.99, 'windBearing': 166, 'cloudCover': 0.63, 'uvIndex': 0, 'visibility': 10, 'ozone': 297.24}, {'time': 1560297600, 'summary': 'Humid and Mostly Cloudy', 'icon': 'partly-cloudy-day', 'precipIntensity': 0.0194, 'precipProbability': 0.12, 'precipType': 'rain', 'temperature': 85.42, 'apparentTemperature': 93.16, 'dewPoint': 73.94, 'humidity': 0.69, 'pressure': 1015.02, 'windSpeed': 8.88, 'windGust': 10.4, 'windBearing': 170, 'cloudCover': 0.62, 'uvIndex': 0, 'visibility': 10, 'ozone': 298.68}, {'time': 1560301200, 'summary': 'Humid and Partly Cloudy', 'icon': 'partly-cloudy-night', 'precipIntensity': 0.0117, 'precipProbability': 0.1, 'precipType': 'rain', 'temperature': 84.6, 'apparentTemperature': 92.08, 'dewPoint': 74.05, 'humidity': 0.71, 'pressure': 1015.46, 'windSpeed': 8.17, 'windGust': 9.88, 'windBearing': 175, 'cloudCover': 0.51, 'uvIndex': 0, 'visibility': 10, 'ozone': 299.33}, {'time': 1560304800, 'summary': 'Humid and Partly Cloudy', 'icon': 'partly-cloudy-night', 'precipIntensity': 0.0045, 'precipProbability': 0.09, 'precipType': 'rain', 'temperature': 83.96, 'apparentTemperature': 91.21, 'dewPoint': 74.14, 'humidity': 0.72, 'pressure': 1016.05, 'windSpeed': 7.51, 'windGust': 9.21, 'windBearing': 179, 'cloudCover': 0.36, 'uvIndex': 0, 'visibility': 10, 'ozone': 299.5}, {'time': 1560308400, 'summary': 'Humid and Partly Cloudy', 'icon': 'partly-cloudy-night', 'precipIntensity': 0.0018, 'precipProbability': 0.07, 'precipType': 'rain', 'temperature': 83.2, 'apparentTemperature': 90.06, 'dewPoint': 74.18, 'humidity': 0.74, 'pressure': 1016.42, 'windSpeed': 6.87, 'windGust': 8.42, 'windBearing': 184, 'cloudCover': 0.26, 'uvIndex': 0, 'visibility': 10, 'ozone': 299.82}, {'time': 1560312000, 'summary': 'Humid and Partly Cloudy', 'icon': 'partly-cloudy-night', 'precipIntensity': 0.0011, 'precipProbability': 0.05, 'precipType': 'rain', 'temperature': 82.44, 'apparentTemperature': 88.78, 'dewPoint': 74.09, 'humidity': 0.76, 'pressure': 1016.38, 'windSpeed': 6.36, 'windGust': 7.56, 'windBearing': 191, 'cloudCover': 0.28, 'uvIndex': 0, 'visibility': 10, 'ozone': 300.56}, {'time': 1560315600, 'summary': 'Humid and Partly Cloudy', 'icon': 'partly-cloudy-night', 'precipIntensity': 0.0012, 'precipProbability': 0.04, 'precipType': 'rain', 'temperature': 81.97, 'apparentTemperature': 87.94, 'dewPoint': 73.97, 'humidity': 0.77, 'pressure': 1016.11, 'windSpeed': 5.95, 'windGust': 6.69, 'windBearing': 197, 'cloudCover': 0.33, 'uvIndex': 0, 'visibility': 10, 'ozone': 301.47}, {'time': 1560319200, 'summary': 'Humid and Partly Cloudy', 'icon': 'partly-cloudy-night', 'precipIntensity': 0.0016, 'precipProbability': 0.01, 'precipType': 'rain', 'temperature': 81.63, 'apparentTemperature': 87.27, 'dewPoint': 73.79, 'humidity': 0.77, 'pressure': 1015.86, 'windSpeed': 5.6, 'windGust': 5.88, 'windBearing': 201, 'cloudCover': 0.38, 'uvIndex': 0, 'visibility': 10, 'ozone': 302.2}, {'time': 1560322800, 'summary': 'Humid and Partly Cloudy', 'icon': 'partly-cloudy-night', 'precipIntensity': 0.0014, 'precipProbability': 0.01, 'precipType': 'rain', 'temperature': 81.45, 'apparentTemperature': 86.86, 'dewPoint': 73.6, 'humidity': 0.77, 'pressure': 1015.63, 'windSpeed': 5.32, 'windGust': 5.43, 'windBearing': 203, 'cloudCover': 0.43, 'uvIndex': 0, 'visibility': 10, 'ozone': 302.79}, {'time': 1560326400, 'summary': 'Humid and Partly Cloudy', 'icon': 'partly-cloudy-night', 'precipIntensity': 0.0008, 'precipProbability': 0.01, 'precipType': 'rain', 'temperature': 81.11, 'apparentTemperature': 86.2, 'dewPoint': 73.38, 'humidity': 0.77, 'pressure': 1015.4, 'windSpeed': 5.11, 'windGust': 5.21, 'windBearing': 204, 'cloudCover': 0.5, 'uvIndex': 0, 'visibility': 10, 'ozone': 303.36}, {'time': 1560330000, 'summary': 'Humid and Partly Cloudy', 'icon': 'partly-cloudy-night', 'precipIntensity': 0.0005, 'precipProbability': 0.01, 'precipType': 'rain', 'temperature': 81.1, 'apparentTemperature': 86.1, 'dewPoint': 73.23, 'humidity': 0.77, 'pressure': 1015.35, 'windSpeed': 4.95, 'windGust': 5.03, 'windBearing': 203, 'cloudCover': 0.57, 'uvIndex': 0, 'visibility': 10, 'ozone': 303.86}, {'time': 1560333600, 'summary': 'Humid and Mostly Cloudy', 'icon': 'partly-cloudy-night', 'precipIntensity': 0.0003, 'precipProbability': 0.02, 'precipType': 'rain', 'temperature': 81.43, 'apparentTemperature': 86.58, 'dewPoint': 73.14, 'humidity': 0.76, 'pressure': 1015.59, 'windSpeed': 4.68, 'windGust': 4.77, 'windBearing': 199, 'cloudCover': 0.69, 'uvIndex': 0, 'visibility': 10, 'ozone': 304.13}, {'time': 1560337200, 'summary': 'Humid and Mostly Cloudy', 'icon': 'partly-cloudy-day', 'precipIntensity': 0.0002, 'precipProbability': 0.03, 'precipType': 'rain', 'temperature': 82.02, 'apparentTemperature': 87.51, 'dewPoint': 73.12, 'humidity': 0.75, 'pressure': 1015.98, 'windSpeed': 4.48, 'windGust': 4.55, 'windBearing': 193, 'cloudCover': 0.81, 'uvIndex': 0, 'visibility': 10, 'ozone': 304.28}, {'time': 1560340800, 'summary': 'Humid and Mostly Cloudy', 'icon': 'partly-cloudy-day', 'precipIntensity': 0.0002, 'precipProbability': 0.03, 'precipType': 'rain', 'temperature': 83.17, 'apparentTemperature': 89.29, 'dewPoint': 73.16, 'humidity': 0.72, 'pressure': 1016.37, 'windSpeed': 4.6, 'windGust': 4.65, 'windBearing': 187, 'cloudCover': 0.87, 'uvIndex': 1, 'visibility': 10, 'ozone': 304.53}, {'time': 1560344400, 'summary': 'Humid and Mostly Cloudy', 'icon': 'partly-cloudy-day', 'precipIntensity': 0, 'precipProbability': 0, 'temperature': 85.05, 'apparentTemperature': 92.06, 'dewPoint': 73.27, 'humidity': 0.68, 'pressure': 1016.79, 'windSpeed': 5.19, 'windGust': 5.22, 'windBearing': 180, 'cloudCover': 0.83, 'uvIndex': 2, 'visibility': 10, 'ozone': 304.83}, {'time': 1560348000, 'summary': 'Humid and Mostly Cloudy', 'icon': 'partly-cloudy-day', 'precipIntensity': 0, 'precipProbability': 0, 'temperature': 86.83, 'apparentTemperature': 94.58, 'dewPoint': 73.36, 'humidity': 0.64, 'pressure': 1017.16, 'windSpeed': 5.94, 'windGust': 6.05, 'windBearing': 174, 'cloudCover': 0.73, 'uvIndex': 4, 'visibility': 10, 'ozone': 305.11}, {'time': 1560351600, 'summary': 'Humid and Mostly Cloudy', 'icon': 'partly-cloudy-day', 'precipIntensity': 0, 'precipProbability': 0, 'temperature': 88.3, 'apparentTemperature': 96.57, 'dewPoint': 73.4, 'humidity': 0.62, 'pressure': 1017.36, 'windSpeed': 6.72, 'windGust': 7.04, 'windBearing': 169, 'cloudCover': 0.64, 'uvIndex': 5, 'visibility': 10, 'ozone': 305.33}, {'time': 1560355200, 'summary': 'Humid and Partly Cloudy', 'icon': 'partly-cloudy-day', 'precipIntensity': 0, 'precipProbability': 0, 'temperature': 89.34, 'apparentTemperature': 97.9, 'dewPoint': 73.38, 'humidity': 0.6, 'pressure': 1017.33, 'windSpeed': 7.67, 'windGust': 7.71, 'windBearing': 164, 'cloudCover': 0.47, 'uvIndex': 7, 'visibility': 10, 'ozone': 305.41}, {'time': 1560358800, 'summary': 'Humid and Partly Cloudy', 'icon': 'partly-cloudy-day', 'precipIntensity': 0.0006, 'precipProbability': 0.03, 'precipType': 'rain', 'temperature': 90.55, 'apparentTemperature': 99.44, 'dewPoint': 73.35, 'humidity': 0.57, 'pressure': 1017.13, 'windSpeed': 8.78, 'windGust': 8.8, 'windBearing': 159, 'cloudCover': 0.28, 'uvIndex': 9, 'visibility': 10, 'ozone': 305.6}, {'time': 1560362400, 'summary': 'Humid', 'icon': 'clear-day', 'precipIntensity': 0.0016, 'precipProbability': 0.04, 'precipType': 'rain', 'temperature': 91.2, 'apparentTemperature': 100.38, 'dewPoint': 73.44, 'humidity': 0.56, 'pressure': 1016.82, 'windSpeed': 9.75, 'windGust': 9.76, 'windBearing': 158, 'cloudCover': 0.18, 'uvIndex': 10, 'visibility': 10, 'ozone': 305.54}, {'time': 1560366000, 'summary': 'Humid', 'icon': 'clear-day', 'precipIntensity': 0.0037, 'precipProbability': 0.08, 'precipType': 'rain', 'temperature': 91.7, 'apparentTemperature': 101.22, 'dewPoint': 73.62, 'humidity': 0.56, 'pressure': 1016.3, 'windSpeed': 10.55, 'windGust': 10.56, 'windBearing': 159, 'cloudCover': 0.24, 'uvIndex': 8, 'visibility': 10, 'ozone': 305.14}, {'time': 1560369600, 'summary': 'Humid and Partly Cloudy', 'icon': 'partly-cloudy-day', 'precipIntensity': 0.0079, 'precipProbability': 0.11, 'precipType': 'rain', 'temperature': 91.1, 'apparentTemperature': 100.72, 'dewPoint': 73.86, 'humidity': 0.57, 'pressure': 1015.67, 'windSpeed': 11.22, 'windGust': 11.35, 'windBearing': 163, 'cloudCover': 0.39, 'uvIndex': 6, 'visibility': 10, 'ozone': 304.6}, {'time': 1560373200, 'summary': 'Humid and Partly Cloudy', 'icon': 'partly-cloudy-day', 'precipIntensity': 0.0145, 'precipProbability': 0.13, 'precipType': 'rain', 'temperature': 89.91, 'apparentTemperature': 99.42, 'dewPoint': 74.09, 'humidity': 0.6, 'pressure': 1015.3, 'windSpeed': 11.41, 'windGust': 12.52, 'windBearing': 168, 'cloudCover': 0.5, 'uvIndex': 3, 'visibility': 10, 'ozone': 303.9}, {'time': 1560376800, 'summary': 'Possible Light Rain', 'icon': 'rain', 'precipIntensity': 0.0353, 'precipProbability': 0.17, 'precipType': 'rain', 'temperature': 88.17, 'apparentTemperature': 97.36, 'dewPoint': 74.32, 'humidity': 0.64, 'pressure': 1015.36, 'windSpeed': 10.83, 'windGust': 12.9, 'windBearing': 171, 'cloudCover': 0.53, 'uvIndex': 2, 'visibility': 10, 'ozone': 303.1}, {'time': 1560380400, 'summary': 'Rain', 'icon': 'rain', 'precipIntensity': 0.0863, 'precipProbability': 0.24, 'precipType': 'rain', 'temperature': 86.34, 'apparentTemperature': 94.99, 'dewPoint': 74.48, 'humidity': 0.68, 'pressure': 1015.67, 'windSpeed': 9.85, 'windGust': 12.81, 'windBearing': 176, 'cloudCover': 0.52, 'uvIndex': 0, 'visibility': 10, 'ozone': 302.05}, {'time': 1560384000, 'summary': 'Rain', 'icon': 'rain', 'precipIntensity': 0.1262, 'precipProbability': 0.27, 'precipType': 'rain', 'temperature': 84.69, 'apparentTemperature': 92.71, 'dewPoint': 74.63, 'humidity': 0.72, 'pressure': 1016.09, 'windSpeed': 9.03, 'windGust': 12.43, 'windBearing': 181, 'cloudCover': 0.51, 'uvIndex': 0, 'visibility': 10, 'ozone': 300.65}, {'time': 1560387600, 'summary': 'Rain', 'icon': 'rain', 'precipIntensity': 0.1015, 'precipProbability': 0.28, 'precipType': 'rain', 'temperature': 83.89, 'apparentTemperature': 91.55, 'dewPoint': 74.69, 'humidity': 0.74, 'pressure': 1016.59, 'windSpeed': 8.71, 'windGust': 11.72, 'windBearing': 184, 'cloudCover': 0.51, 'uvIndex': 0, 'visibility': 10, 'ozone': 298.49}, {'time': 1560391200, 'summary': 'Possible Light Rain', 'icon': 'rain', 'precipIntensity': 0.0523, 'precipProbability': 0.24, 'precipType': 'rain', 'temperature': 83.41, 'apparentTemperature': 90.83, 'dewPoint': 74.73, 'humidity': 0.75, 'pressure': 1017.2, 'windSpeed': 8.52, 'windGust': 10.67, 'windBearing': 188, 'cloudCover': 0.53, 'uvIndex': 0, 'visibility': 10, 'ozone': 295.99}, {'time': 1560394800, 'summary': 'Humid and Partly Cloudy', 'icon': 'partly-cloudy-night', 'precipIntensity': 0.0223, 'precipProbability': 0.17, 'precipType': 'rain', 'temperature': 82.74, 'apparentTemperature': 89.72, 'dewPoint': 74.72, 'humidity': 0.77, 'pressure': 1017.59, 'windSpeed': 8.28, 'windGust': 9.63, 'windBearing': 193, 'cloudCover': 0.53, 'uvIndex': 0, 'visibility': 10, 'ozone': 293.94}]\n"
     ]
    }
   ],
   "source": [
    "hourly_florida_data = hourly_florida['data']\n",
    "print(hourly_florida_data)"
   ]
  },
  {
   "cell_type": "code",
   "execution_count": 27,
   "metadata": {},
   "outputs": [
    {
     "name": "stdout",
     "output_type": "stream",
     "text": [
      "The temperature is 79.51\n",
      "The temperature is 79.1\n",
      "The temperature is 79.31\n",
      "The temperature is 80\n",
      "The temperature is 81.73\n",
      "The temperature is 84.5\n",
      "The temperature is 86.68\n",
      "The temperature is 88.11\n",
      "The temperature is 89.12\n",
      "The temperature is 89.97\n",
      "The temperature is 90.26\n",
      "The temperature is 90.49\n",
      "The temperature is 89.94\n",
      "The temperature is 89.16\n",
      "The temperature is 87.89\n",
      "The temperature is 86.59\n",
      "The temperature is 85.42\n",
      "The temperature is 84.6\n",
      "The temperature is 83.96\n",
      "The temperature is 81.63\n",
      "The temperature is 81.45\n",
      "The temperature is 81.11\n",
      "The temperature is 81.1\n",
      "The temperature is 81.43\n",
      "The temperature is 82.02\n",
      "The temperature is 83.17\n",
      "The temperature is 85.05\n",
      "The temperature is 86.83\n",
      "The temperature is 88.3\n",
      "The temperature is 89.34\n",
      "The temperature is 91.1\n",
      "The temperature is 89.91\n",
      "The temperature is 88.17\n",
      "The temperature is 86.34\n",
      "The temperature is 84.69\n",
      "The temperature is 83.89\n",
      "The temperature is 83.41\n",
      "The temperature is 82.74\n"
     ]
    }
   ],
   "source": [
    "for temp_hourly in hourly_florida_data:\n",
    "    if temp_hourly['cloudCover'] > 0.34:\n",
    "        print(\"The temperature is\", temp_hourly['temperature'])"
   ]
  },
  {
   "cell_type": "markdown",
   "metadata": {},
   "source": [
    "# 8) For the next 24-ish hours in Miami, what percent of the time is the temperature above 85 degrees?\n",
    "\n",
    "If they give you 48 hours instead of 24, that's okay.\n",
    "\n",
    "- *Tip: You might want to read up on [looping patterns](http://jonathansoma.com/lede/foundations-2017/classes/data%20structures/looping-patterns/)*"
   ]
  },
  {
   "cell_type": "code",
   "execution_count": 49,
   "metadata": {},
   "outputs": [
    {
     "name": "stdout",
     "output_type": "stream",
     "text": [
      "86.68\n",
      "88.11\n",
      "89.12\n",
      "89.97\n",
      "90.26\n",
      "90.49\n",
      "89.94\n",
      "89.16\n",
      "87.89\n",
      "86.59\n",
      "85.42\n",
      "85.05\n",
      "86.83\n",
      "88.3\n",
      "89.34\n",
      "90.55\n",
      "91.2\n",
      "91.7\n",
      "91.1\n",
      "89.91\n",
      "88.17\n",
      "86.34\n"
     ]
    }
   ],
   "source": [
    "\n",
    "for count_high_temp_percent in hourly_florida_data:\n",
    "    count_high_temp = 0\n",
    "    if count_high_temp_percent['temperature'] > 85:\n",
    "        count_high_temp = count_high_temp+1\n",
    "        print(count_high_temp_percent['temperature'])"
   ]
  },
  {
   "cell_type": "code",
   "execution_count": 53,
   "metadata": {},
   "outputs": [
    {
     "name": "stdout",
     "output_type": "stream",
     "text": [
      "45.83333333333333 percent of the time is the temperature above 85 degrees.\n"
     ]
    }
   ],
   "source": [
    "high_temp_list = [86.68, 88.11, 89.12, 89.97, 90.26, 90.49, 89.94, 89.16, 87.89, 86.59, 85.42, 85.05, 86.83, 88.3, 89.34, 90.5, 91.2, 91.7\n",
    ", 91.1, 89.91, 88.17, 86.34]\n",
    "\n",
    "\n",
    "print(len(high_temp_list)/48*100, \"percent of the time is the temperature above 85 degrees.\")\n"
   ]
  },
  {
   "cell_type": "code",
   "execution_count": null,
   "metadata": {},
   "outputs": [],
   "source": []
  },
  {
   "cell_type": "markdown",
   "metadata": {},
   "source": [
    "## 9) What was the temperature in Central Park on Christmas Day, 2012? How about 2007? 2005? How far back does the API allow you to go?\n",
    "\n",
    "- *Tip: You'll need to use UNIX time, which is the number of seconds since January 1, 1970. Google can help you convert a normal date!*\n",
    "- *Tip: You'll want to use Forecast.io's \"time machine\" API, [documentation here](https://darksky.net/dev/docs/time-machine)*"
   ]
  },
  {
   "cell_type": "code",
   "execution_count": 56,
   "metadata": {},
   "outputs": [],
   "source": [
    "response = requests.get('https://api.darksky.net/forecast/4c2f56efa7af71166e7044038873f94c/40.782787,-73.968281,1356411600?exclude=currently,flags')\n",
    "data_central_park = response.json()"
   ]
  },
  {
   "cell_type": "code",
   "execution_count": 57,
   "metadata": {},
   "outputs": [
    {
     "data": {
      "text/plain": [
       "dict_keys(['latitude', 'longitude', 'timezone', 'hourly', 'daily', 'offset'])"
      ]
     },
     "execution_count": 57,
     "metadata": {},
     "output_type": "execute_result"
    }
   ],
   "source": [
    "data_central_park.keys()"
   ]
  },
  {
   "cell_type": "code",
   "execution_count": 58,
   "metadata": {},
   "outputs": [],
   "source": [
    "central_park_hourly = data_central_park['hourly']"
   ]
  },
  {
   "cell_type": "code",
   "execution_count": 67,
   "metadata": {},
   "outputs": [
    {
     "data": {
      "text/plain": [
       "dict_keys(['summary', 'icon', 'data'])"
      ]
     },
     "execution_count": 67,
     "metadata": {},
     "output_type": "execute_result"
    }
   ],
   "source": [
    "central_park_hourly.keys()"
   ]
  },
  {
   "cell_type": "code",
   "execution_count": 68,
   "metadata": {},
   "outputs": [],
   "source": [
    "central_park_hourly_data = central_park_hourly['data']"
   ]
  },
  {
   "cell_type": "code",
   "execution_count": 72,
   "metadata": {},
   "outputs": [
    {
     "name": "stdout",
     "output_type": "stream",
     "text": [
      "{'time': 1356411600, 'summary': 'Overcast', 'icon': 'cloudy', 'precipIntensity': 0.0043, 'precipProbability': 0.4, 'precipType': 'rain', 'temperature': 34.26, 'apparentTemperature': 34.26, 'dewPoint': 32.19, 'humidity': 0.92, 'pressure': 1013.88, 'windSpeed': 1.89, 'windGust': 4.38, 'windBearing': 40, 'cloudCover': 1, 'uvIndex': 0, 'visibility': 2.8}\n"
     ]
    }
   ],
   "source": [
    "central_park_first_list = central_park_hourly_data[0]\n",
    "print(central_park_first_list)"
   ]
  },
  {
   "cell_type": "code",
   "execution_count": 73,
   "metadata": {},
   "outputs": [],
   "source": [
    "central_park_temperature = central_park_first_list['temperature']"
   ]
  },
  {
   "cell_type": "code",
   "execution_count": 74,
   "metadata": {},
   "outputs": [
    {
     "name": "stdout",
     "output_type": "stream",
     "text": [
      "Temperature in Central Park on Christmas Day, 2012 was 34.26\n"
     ]
    }
   ],
   "source": [
    "print(\"Temperature in Central Park on Christmas Day, 2012 was\", central_park_temperature)"
   ]
  },
  {
   "cell_type": "code",
   "execution_count": null,
   "metadata": {},
   "outputs": [],
   "source": []
  }
 ],
 "metadata": {
  "kernelspec": {
   "display_name": "Python 3",
   "language": "python",
   "name": "python3"
  },
  "language_info": {
   "codemirror_mode": {
    "name": "ipython",
    "version": 3
   },
   "file_extension": ".py",
   "mimetype": "text/x-python",
   "name": "python",
   "nbconvert_exporter": "python",
   "pygments_lexer": "ipython3",
   "version": "3.7.3"
  }
 },
 "nbformat": 4,
 "nbformat_minor": 1
}
